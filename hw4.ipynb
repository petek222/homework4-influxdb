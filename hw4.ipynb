{
  "nbformat": 4,
  "nbformat_minor": 0,
  "metadata": {
    "colab": {
      "name": "InfluxDB-tweet.ipynb",
      "provenance": [],
      "collapsed_sections": [],
      "include_colab_link": true
    },
    "kernelspec": {
      "name": "python3",
      "display_name": "Python 3",
      "language": "python"
    }
  },
  "cells": [
    {
      "cell_type": "markdown",
      "metadata": {
        "id": "view-in-github",
        "colab_type": "text"
      },
      "source": [
        "<a href=\"https://colab.research.google.com/github/vu-topics-in-big-data-2021/homework4-influxdb/blob/main/hw4.ipynb\" target=\"_parent\"><img src=\"https://colab.research.google.com/assets/colab-badge.svg\" alt=\"Open In Colab\"/></a>"
      ]
    },
    {
      "cell_type": "code",
      "metadata": {
        "id": "u4jBqZnqy8qH"
      },
      "source": [
        "!pip3 install influxdb plotly pandas numpy matplotlib"
      ],
      "execution_count": null,
      "outputs": []
    },
    {
      "cell_type": "code",
      "metadata": {
        "id": "nl5XcJZpxVb1"
      },
      "source": [
        "from influxdb import InfluxDBClient\n",
        "import json\n",
        "import datetime\n",
        "from getpass import getpass\n",
        "import pandas as pd\n",
        "import numpy as np\n",
        "import seaborn as sns\n",
        "from matplotlib.pylab import rcParams\n",
        "import matplotlib.pyplot as plt\n",
        "from plotly.subplots import make_subplots\n",
        "import plotly.graph_objects as go\n",
        "\n",
        "%matplotlib inline\n",
        "\n",
        "sns.set(style='whitegrid', palette='muted')\n",
        "rcParams['figure.figsize'] = 14, 8"
      ],
      "execution_count": null,
      "outputs": []
    },
    {
      "cell_type": "code",
      "metadata": {
        "id": "Rx9Hztq0xcH3"
      },
      "source": [
        "passwd=getpass('Enter Password Here:')\n",
        "client = InfluxDBClient(host='replace with the public IP of your ec2 instance', username='admin', password='your db password', port=8086, database=\"energy\")"
      ],
      "execution_count": null,
      "outputs": []
    },
    {
      "cell_type": "markdown",
      "metadata": {
        "id": "uDAr2SsSy8qL"
      },
      "source": [
        "## An example of plotting synthetic data using plotly library.\n",
        "\n",
        "Plotly allows you to test and make simple figures.\n"
      ]
    },
    {
      "cell_type": "code",
      "metadata": {
        "id": "D__b7eW5y8qL",
        "outputId": "accc0794-b9cc-4c8f-b6cb-709dcb45980e"
      },
      "source": [
        "# define the time range\n",
        "begin = datetime.datetime(2021, 1, 1)\n",
        "end = datetime.datetime(2021, 1, 3, 23, 59, 59)\n",
        "step = datetime.timedelta(hours=1) # set sampling step as 1 hour\n",
        "\n",
        "# generate X and Y axises\n",
        "timesteps = []\n",
        "values = []\n",
        "while begin < end:\n",
        "    timesteps.append(begin.strftime('%Y-%m-%d %H:%M:%S'))\n",
        "    begin += step\n",
        "    values.append(np.random.randint(0, 100))\n",
        "\n",
        "# plot the figure\n",
        "fig = go.Figure()\n",
        "fig.add_trace(go.Scatter(x=timesteps, y=values, mode='lines', name='Synthetic Values'))\n",
        "fig.update_layout(showlegend=True)\n",
        "fig.show()"
      ],
      "execution_count": null,
      "outputs": [
        {
          "output_type": "display_data",
          "data": {
            "application/vnd.plotly.v1+json": {
              "config": {
                "plotlyServerURL": "https://plot.ly"
              },
              "data": [
                {
                  "mode": "lines",
                  "name": "Synthetic Values",
                  "type": "scatter",
                  "x": [
                    "2021-01-01 00:00:00",
                    "2021-01-01 01:00:00",
                    "2021-01-01 02:00:00",
                    "2021-01-01 03:00:00",
                    "2021-01-01 04:00:00",
                    "2021-01-01 05:00:00",
                    "2021-01-01 06:00:00",
                    "2021-01-01 07:00:00",
                    "2021-01-01 08:00:00",
                    "2021-01-01 09:00:00",
                    "2021-01-01 10:00:00",
                    "2021-01-01 11:00:00",
                    "2021-01-01 12:00:00",
                    "2021-01-01 13:00:00",
                    "2021-01-01 14:00:00",
                    "2021-01-01 15:00:00",
                    "2021-01-01 16:00:00",
                    "2021-01-01 17:00:00",
                    "2021-01-01 18:00:00",
                    "2021-01-01 19:00:00",
                    "2021-01-01 20:00:00",
                    "2021-01-01 21:00:00",
                    "2021-01-01 22:00:00",
                    "2021-01-01 23:00:00",
                    "2021-01-02 00:00:00",
                    "2021-01-02 01:00:00",
                    "2021-01-02 02:00:00",
                    "2021-01-02 03:00:00",
                    "2021-01-02 04:00:00",
                    "2021-01-02 05:00:00",
                    "2021-01-02 06:00:00",
                    "2021-01-02 07:00:00",
                    "2021-01-02 08:00:00",
                    "2021-01-02 09:00:00",
                    "2021-01-02 10:00:00",
                    "2021-01-02 11:00:00",
                    "2021-01-02 12:00:00",
                    "2021-01-02 13:00:00",
                    "2021-01-02 14:00:00",
                    "2021-01-02 15:00:00",
                    "2021-01-02 16:00:00",
                    "2021-01-02 17:00:00",
                    "2021-01-02 18:00:00",
                    "2021-01-02 19:00:00",
                    "2021-01-02 20:00:00",
                    "2021-01-02 21:00:00",
                    "2021-01-02 22:00:00",
                    "2021-01-02 23:00:00",
                    "2021-01-03 00:00:00",
                    "2021-01-03 01:00:00",
                    "2021-01-03 02:00:00",
                    "2021-01-03 03:00:00",
                    "2021-01-03 04:00:00",
                    "2021-01-03 05:00:00",
                    "2021-01-03 06:00:00",
                    "2021-01-03 07:00:00",
                    "2021-01-03 08:00:00",
                    "2021-01-03 09:00:00",
                    "2021-01-03 10:00:00",
                    "2021-01-03 11:00:00",
                    "2021-01-03 12:00:00",
                    "2021-01-03 13:00:00",
                    "2021-01-03 14:00:00",
                    "2021-01-03 15:00:00",
                    "2021-01-03 16:00:00",
                    "2021-01-03 17:00:00",
                    "2021-01-03 18:00:00",
                    "2021-01-03 19:00:00",
                    "2021-01-03 20:00:00",
                    "2021-01-03 21:00:00",
                    "2021-01-03 22:00:00",
                    "2021-01-03 23:00:00"
                  ],
                  "y": [
                    62,
                    60,
                    25,
                    46,
                    50,
                    79,
                    1,
                    4,
                    21,
                    15,
                    73,
                    86,
                    57,
                    27,
                    50,
                    60,
                    1,
                    38,
                    90,
                    4,
                    35,
                    18,
                    42,
                    7,
                    51,
                    51,
                    11,
                    0,
                    73,
                    56,
                    45,
                    70,
                    15,
                    19,
                    87,
                    69,
                    41,
                    86,
                    23,
                    66,
                    57,
                    70,
                    34,
                    34,
                    25,
                    85,
                    86,
                    89,
                    49,
                    52,
                    76,
                    91,
                    10,
                    84,
                    77,
                    66,
                    84,
                    27,
                    59,
                    47,
                    50,
                    61,
                    24,
                    46,
                    44,
                    93,
                    32,
                    15,
                    92,
                    70,
                    69,
                    1
                  ]
                }
              ],
              "layout": {
                "showlegend": true,
                "template": {
                  "data": {
                    "bar": [
                      {
                        "error_x": {
                          "color": "#2a3f5f"
                        },
                        "error_y": {
                          "color": "#2a3f5f"
                        },
                        "marker": {
                          "line": {
                            "color": "#E5ECF6",
                            "width": 0.5
                          }
                        },
                        "type": "bar"
                      }
                    ],
                    "barpolar": [
                      {
                        "marker": {
                          "line": {
                            "color": "#E5ECF6",
                            "width": 0.5
                          }
                        },
                        "type": "barpolar"
                      }
                    ],
                    "carpet": [
                      {
                        "aaxis": {
                          "endlinecolor": "#2a3f5f",
                          "gridcolor": "white",
                          "linecolor": "white",
                          "minorgridcolor": "white",
                          "startlinecolor": "#2a3f5f"
                        },
                        "baxis": {
                          "endlinecolor": "#2a3f5f",
                          "gridcolor": "white",
                          "linecolor": "white",
                          "minorgridcolor": "white",
                          "startlinecolor": "#2a3f5f"
                        },
                        "type": "carpet"
                      }
                    ],
                    "choropleth": [
                      {
                        "colorbar": {
                          "outlinewidth": 0,
                          "ticks": ""
                        },
                        "type": "choropleth"
                      }
                    ],
                    "contour": [
                      {
                        "colorbar": {
                          "outlinewidth": 0,
                          "ticks": ""
                        },
                        "colorscale": [
                          [
                            0,
                            "#0d0887"
                          ],
                          [
                            0.1111111111111111,
                            "#46039f"
                          ],
                          [
                            0.2222222222222222,
                            "#7201a8"
                          ],
                          [
                            0.3333333333333333,
                            "#9c179e"
                          ],
                          [
                            0.4444444444444444,
                            "#bd3786"
                          ],
                          [
                            0.5555555555555556,
                            "#d8576b"
                          ],
                          [
                            0.6666666666666666,
                            "#ed7953"
                          ],
                          [
                            0.7777777777777778,
                            "#fb9f3a"
                          ],
                          [
                            0.8888888888888888,
                            "#fdca26"
                          ],
                          [
                            1,
                            "#f0f921"
                          ]
                        ],
                        "type": "contour"
                      }
                    ],
                    "contourcarpet": [
                      {
                        "colorbar": {
                          "outlinewidth": 0,
                          "ticks": ""
                        },
                        "type": "contourcarpet"
                      }
                    ],
                    "heatmap": [
                      {
                        "colorbar": {
                          "outlinewidth": 0,
                          "ticks": ""
                        },
                        "colorscale": [
                          [
                            0,
                            "#0d0887"
                          ],
                          [
                            0.1111111111111111,
                            "#46039f"
                          ],
                          [
                            0.2222222222222222,
                            "#7201a8"
                          ],
                          [
                            0.3333333333333333,
                            "#9c179e"
                          ],
                          [
                            0.4444444444444444,
                            "#bd3786"
                          ],
                          [
                            0.5555555555555556,
                            "#d8576b"
                          ],
                          [
                            0.6666666666666666,
                            "#ed7953"
                          ],
                          [
                            0.7777777777777778,
                            "#fb9f3a"
                          ],
                          [
                            0.8888888888888888,
                            "#fdca26"
                          ],
                          [
                            1,
                            "#f0f921"
                          ]
                        ],
                        "type": "heatmap"
                      }
                    ],
                    "heatmapgl": [
                      {
                        "colorbar": {
                          "outlinewidth": 0,
                          "ticks": ""
                        },
                        "colorscale": [
                          [
                            0,
                            "#0d0887"
                          ],
                          [
                            0.1111111111111111,
                            "#46039f"
                          ],
                          [
                            0.2222222222222222,
                            "#7201a8"
                          ],
                          [
                            0.3333333333333333,
                            "#9c179e"
                          ],
                          [
                            0.4444444444444444,
                            "#bd3786"
                          ],
                          [
                            0.5555555555555556,
                            "#d8576b"
                          ],
                          [
                            0.6666666666666666,
                            "#ed7953"
                          ],
                          [
                            0.7777777777777778,
                            "#fb9f3a"
                          ],
                          [
                            0.8888888888888888,
                            "#fdca26"
                          ],
                          [
                            1,
                            "#f0f921"
                          ]
                        ],
                        "type": "heatmapgl"
                      }
                    ],
                    "histogram": [
                      {
                        "marker": {
                          "colorbar": {
                            "outlinewidth": 0,
                            "ticks": ""
                          }
                        },
                        "type": "histogram"
                      }
                    ],
                    "histogram2d": [
                      {
                        "colorbar": {
                          "outlinewidth": 0,
                          "ticks": ""
                        },
                        "colorscale": [
                          [
                            0,
                            "#0d0887"
                          ],
                          [
                            0.1111111111111111,
                            "#46039f"
                          ],
                          [
                            0.2222222222222222,
                            "#7201a8"
                          ],
                          [
                            0.3333333333333333,
                            "#9c179e"
                          ],
                          [
                            0.4444444444444444,
                            "#bd3786"
                          ],
                          [
                            0.5555555555555556,
                            "#d8576b"
                          ],
                          [
                            0.6666666666666666,
                            "#ed7953"
                          ],
                          [
                            0.7777777777777778,
                            "#fb9f3a"
                          ],
                          [
                            0.8888888888888888,
                            "#fdca26"
                          ],
                          [
                            1,
                            "#f0f921"
                          ]
                        ],
                        "type": "histogram2d"
                      }
                    ],
                    "histogram2dcontour": [
                      {
                        "colorbar": {
                          "outlinewidth": 0,
                          "ticks": ""
                        },
                        "colorscale": [
                          [
                            0,
                            "#0d0887"
                          ],
                          [
                            0.1111111111111111,
                            "#46039f"
                          ],
                          [
                            0.2222222222222222,
                            "#7201a8"
                          ],
                          [
                            0.3333333333333333,
                            "#9c179e"
                          ],
                          [
                            0.4444444444444444,
                            "#bd3786"
                          ],
                          [
                            0.5555555555555556,
                            "#d8576b"
                          ],
                          [
                            0.6666666666666666,
                            "#ed7953"
                          ],
                          [
                            0.7777777777777778,
                            "#fb9f3a"
                          ],
                          [
                            0.8888888888888888,
                            "#fdca26"
                          ],
                          [
                            1,
                            "#f0f921"
                          ]
                        ],
                        "type": "histogram2dcontour"
                      }
                    ],
                    "mesh3d": [
                      {
                        "colorbar": {
                          "outlinewidth": 0,
                          "ticks": ""
                        },
                        "type": "mesh3d"
                      }
                    ],
                    "parcoords": [
                      {
                        "line": {
                          "colorbar": {
                            "outlinewidth": 0,
                            "ticks": ""
                          }
                        },
                        "type": "parcoords"
                      }
                    ],
                    "pie": [
                      {
                        "automargin": true,
                        "type": "pie"
                      }
                    ],
                    "scatter": [
                      {
                        "marker": {
                          "colorbar": {
                            "outlinewidth": 0,
                            "ticks": ""
                          }
                        },
                        "type": "scatter"
                      }
                    ],
                    "scatter3d": [
                      {
                        "line": {
                          "colorbar": {
                            "outlinewidth": 0,
                            "ticks": ""
                          }
                        },
                        "marker": {
                          "colorbar": {
                            "outlinewidth": 0,
                            "ticks": ""
                          }
                        },
                        "type": "scatter3d"
                      }
                    ],
                    "scattercarpet": [
                      {
                        "marker": {
                          "colorbar": {
                            "outlinewidth": 0,
                            "ticks": ""
                          }
                        },
                        "type": "scattercarpet"
                      }
                    ],
                    "scattergeo": [
                      {
                        "marker": {
                          "colorbar": {
                            "outlinewidth": 0,
                            "ticks": ""
                          }
                        },
                        "type": "scattergeo"
                      }
                    ],
                    "scattergl": [
                      {
                        "marker": {
                          "colorbar": {
                            "outlinewidth": 0,
                            "ticks": ""
                          }
                        },
                        "type": "scattergl"
                      }
                    ],
                    "scattermapbox": [
                      {
                        "marker": {
                          "colorbar": {
                            "outlinewidth": 0,
                            "ticks": ""
                          }
                        },
                        "type": "scattermapbox"
                      }
                    ],
                    "scatterpolar": [
                      {
                        "marker": {
                          "colorbar": {
                            "outlinewidth": 0,
                            "ticks": ""
                          }
                        },
                        "type": "scatterpolar"
                      }
                    ],
                    "scatterpolargl": [
                      {
                        "marker": {
                          "colorbar": {
                            "outlinewidth": 0,
                            "ticks": ""
                          }
                        },
                        "type": "scatterpolargl"
                      }
                    ],
                    "scatterternary": [
                      {
                        "marker": {
                          "colorbar": {
                            "outlinewidth": 0,
                            "ticks": ""
                          }
                        },
                        "type": "scatterternary"
                      }
                    ],
                    "surface": [
                      {
                        "colorbar": {
                          "outlinewidth": 0,
                          "ticks": ""
                        },
                        "colorscale": [
                          [
                            0,
                            "#0d0887"
                          ],
                          [
                            0.1111111111111111,
                            "#46039f"
                          ],
                          [
                            0.2222222222222222,
                            "#7201a8"
                          ],
                          [
                            0.3333333333333333,
                            "#9c179e"
                          ],
                          [
                            0.4444444444444444,
                            "#bd3786"
                          ],
                          [
                            0.5555555555555556,
                            "#d8576b"
                          ],
                          [
                            0.6666666666666666,
                            "#ed7953"
                          ],
                          [
                            0.7777777777777778,
                            "#fb9f3a"
                          ],
                          [
                            0.8888888888888888,
                            "#fdca26"
                          ],
                          [
                            1,
                            "#f0f921"
                          ]
                        ],
                        "type": "surface"
                      }
                    ],
                    "table": [
                      {
                        "cells": {
                          "fill": {
                            "color": "#EBF0F8"
                          },
                          "line": {
                            "color": "white"
                          }
                        },
                        "header": {
                          "fill": {
                            "color": "#C8D4E3"
                          },
                          "line": {
                            "color": "white"
                          }
                        },
                        "type": "table"
                      }
                    ]
                  },
                  "layout": {
                    "annotationdefaults": {
                      "arrowcolor": "#2a3f5f",
                      "arrowhead": 0,
                      "arrowwidth": 1
                    },
                    "autotypenumbers": "strict",
                    "coloraxis": {
                      "colorbar": {
                        "outlinewidth": 0,
                        "ticks": ""
                      }
                    },
                    "colorscale": {
                      "diverging": [
                        [
                          0,
                          "#8e0152"
                        ],
                        [
                          0.1,
                          "#c51b7d"
                        ],
                        [
                          0.2,
                          "#de77ae"
                        ],
                        [
                          0.3,
                          "#f1b6da"
                        ],
                        [
                          0.4,
                          "#fde0ef"
                        ],
                        [
                          0.5,
                          "#f7f7f7"
                        ],
                        [
                          0.6,
                          "#e6f5d0"
                        ],
                        [
                          0.7,
                          "#b8e186"
                        ],
                        [
                          0.8,
                          "#7fbc41"
                        ],
                        [
                          0.9,
                          "#4d9221"
                        ],
                        [
                          1,
                          "#276419"
                        ]
                      ],
                      "sequential": [
                        [
                          0,
                          "#0d0887"
                        ],
                        [
                          0.1111111111111111,
                          "#46039f"
                        ],
                        [
                          0.2222222222222222,
                          "#7201a8"
                        ],
                        [
                          0.3333333333333333,
                          "#9c179e"
                        ],
                        [
                          0.4444444444444444,
                          "#bd3786"
                        ],
                        [
                          0.5555555555555556,
                          "#d8576b"
                        ],
                        [
                          0.6666666666666666,
                          "#ed7953"
                        ],
                        [
                          0.7777777777777778,
                          "#fb9f3a"
                        ],
                        [
                          0.8888888888888888,
                          "#fdca26"
                        ],
                        [
                          1,
                          "#f0f921"
                        ]
                      ],
                      "sequentialminus": [
                        [
                          0,
                          "#0d0887"
                        ],
                        [
                          0.1111111111111111,
                          "#46039f"
                        ],
                        [
                          0.2222222222222222,
                          "#7201a8"
                        ],
                        [
                          0.3333333333333333,
                          "#9c179e"
                        ],
                        [
                          0.4444444444444444,
                          "#bd3786"
                        ],
                        [
                          0.5555555555555556,
                          "#d8576b"
                        ],
                        [
                          0.6666666666666666,
                          "#ed7953"
                        ],
                        [
                          0.7777777777777778,
                          "#fb9f3a"
                        ],
                        [
                          0.8888888888888888,
                          "#fdca26"
                        ],
                        [
                          1,
                          "#f0f921"
                        ]
                      ]
                    },
                    "colorway": [
                      "#636efa",
                      "#EF553B",
                      "#00cc96",
                      "#ab63fa",
                      "#FFA15A",
                      "#19d3f3",
                      "#FF6692",
                      "#B6E880",
                      "#FF97FF",
                      "#FECB52"
                    ],
                    "font": {
                      "color": "#2a3f5f"
                    },
                    "geo": {
                      "bgcolor": "white",
                      "lakecolor": "white",
                      "landcolor": "#E5ECF6",
                      "showlakes": true,
                      "showland": true,
                      "subunitcolor": "white"
                    },
                    "hoverlabel": {
                      "align": "left"
                    },
                    "hovermode": "closest",
                    "mapbox": {
                      "style": "light"
                    },
                    "paper_bgcolor": "white",
                    "plot_bgcolor": "#E5ECF6",
                    "polar": {
                      "angularaxis": {
                        "gridcolor": "white",
                        "linecolor": "white",
                        "ticks": ""
                      },
                      "bgcolor": "#E5ECF6",
                      "radialaxis": {
                        "gridcolor": "white",
                        "linecolor": "white",
                        "ticks": ""
                      }
                    },
                    "scene": {
                      "xaxis": {
                        "backgroundcolor": "#E5ECF6",
                        "gridcolor": "white",
                        "gridwidth": 2,
                        "linecolor": "white",
                        "showbackground": true,
                        "ticks": "",
                        "zerolinecolor": "white"
                      },
                      "yaxis": {
                        "backgroundcolor": "#E5ECF6",
                        "gridcolor": "white",
                        "gridwidth": 2,
                        "linecolor": "white",
                        "showbackground": true,
                        "ticks": "",
                        "zerolinecolor": "white"
                      },
                      "zaxis": {
                        "backgroundcolor": "#E5ECF6",
                        "gridcolor": "white",
                        "gridwidth": 2,
                        "linecolor": "white",
                        "showbackground": true,
                        "ticks": "",
                        "zerolinecolor": "white"
                      }
                    },
                    "shapedefaults": {
                      "line": {
                        "color": "#2a3f5f"
                      }
                    },
                    "ternary": {
                      "aaxis": {
                        "gridcolor": "white",
                        "linecolor": "white",
                        "ticks": ""
                      },
                      "baxis": {
                        "gridcolor": "white",
                        "linecolor": "white",
                        "ticks": ""
                      },
                      "bgcolor": "#E5ECF6",
                      "caxis": {
                        "gridcolor": "white",
                        "linecolor": "white",
                        "ticks": ""
                      }
                    },
                    "title": {
                      "x": 0.05
                    },
                    "xaxis": {
                      "automargin": true,
                      "gridcolor": "white",
                      "linecolor": "white",
                      "ticks": "",
                      "title": {
                        "standoff": 15
                      },
                      "zerolinecolor": "white",
                      "zerolinewidth": 2
                    },
                    "yaxis": {
                      "automargin": true,
                      "gridcolor": "white",
                      "linecolor": "white",
                      "ticks": "",
                      "title": {
                        "standoff": 15
                      },
                      "zerolinecolor": "white",
                      "zerolinewidth": 2
                    }
                  }
                }
              }
            }
          },
          "metadata": {
            "tags": []
          }
        }
      ]
    },
    {
      "cell_type": "markdown",
      "metadata": {
        "id": "nauVcXKseDvF"
      },
      "source": [
        "# Task1: Import the energy data from CSV file to remote InfluxDB -- 10 points"
      ]
    },
    {
      "cell_type": "code",
      "metadata": {
        "tags": [],
        "id": "g5qZr5Wxy8qM"
      },
      "source": [
        "def load_data():\n",
        "    \"\"\"\n",
        "    TODO: Load data into InfluxDB\n",
        "    hints: \n",
        "    1. use write_points function\n",
        "    2. no tag needs to be set\n",
        "    3. set \"date\" as time.\n",
        "    \"\"\"\n",
        "    pass"
      ],
      "execution_count": null,
      "outputs": []
    },
    {
      "cell_type": "markdown",
      "metadata": {
        "id": "SV-SjmIcy8qN"
      },
      "source": [
        "# Task2: Queries\n",
        "## Some Hints:\n",
        "1. Since the sampling frequency of the given dataset is 10 mins, in the following queries, you usually need to use the \"GROUP BY(1d)\" statement to get the daily average value of a field before doing other operations.\n",
        "2. Try to use some built-in InfluxQL functions when solving the problems, rather than reinventing the wheel. Please refer https://docs.influxdata.com/influxdb/v1.8/query_language/functions/#spread.\n",
        "3. To pass the provided testing assertion, you may need to round your answer to floating numbers with 2 decimal places.\n",
        "4. You can refer figures in the images folder to verify your results."
      ]
    },
    {
      "cell_type": "markdown",
      "metadata": {
        "id": "j17TakqVy8qN"
      },
      "source": [
        "### Q1: Calculate the mean, median, and standard deviation of each field and return a DataFrame. -- 0 points\n",
        "You are allowed to use pandas or numpy to process query results to make it match provided validation result.\n",
        "\n",
        "This query has been solved, so no point."
      ]
    },
    {
      "cell_type": "code",
      "metadata": {
        "id": "6s7UfqJTy8qN"
      },
      "source": [
        "def q1():\n",
        "    \"\"\"\n",
        "    :return: DataFrame\n",
        "    \"\"\"\n",
        "    query_str = 'SELECT MEAN(*), MEDIAN(*), STDDEV(*) FROM energy FILL(none)'\n",
        "    result = list(client.query(query_str).get_points('energy'))[0]\n",
        "    fileds = list(set(['_'.join(item.split('_')[1:]) for item in list(result.keys())[1:]]))\n",
        "    df_rlt = {}\n",
        "    for f in fileds:\n",
        "        df_rlt.update({f: {'mean': result['mean_%s'%f], 'median': result['median_%s'%f], 'stddev': result['stddev_%s'%f]}})\n",
        "    return pd.DataFrame(df_rlt).T.round(2)"
      ],
      "execution_count": null,
      "outputs": []
    },
    {
      "cell_type": "code",
      "metadata": {
        "id": "DHOq0bYby8qN"
      },
      "source": [
        "aq1 = pd.DataFrame({'mean': {'rv1': 25.02, 'RH_out': 81.77, 'Visibility': 38.7, 'Windspeed': 4.29, 'RH_1': 40.06, 'T5': 18.96, 'T4': 20.15, 'T8': 21.47, 'RH_5': 51.35, 'Press_mm_hg': 755.4, 'RH_8': 42.84, 'T_out': 5.85, 'T2': 19.63, 'RH_2': 40.57, 'T7': 19.56, 'Appliances': 98.02, 'RH_9': 41.43, 'RH_4': 38.93, 'T1': 21.15, 'T9': 18.77, 'T3': 21.58, 'rv2': 25.02, 'RH_6': 63.15, 'T6': 6.13, 'Tdewpoint': 2.71, 'RH_3': 39.37, 'RH_7': 35.04, 'lights': 4.35}, 'median': {'rv1': 24.91, 'RH_out': 85.25, 'Visibility': 40.0, 'Windspeed': 4.0, 'RH_1': 39.59, 'T5': 18.89, 'T4': 20.29, 'T8': 21.7, 'RH_5': 49.09, 'Press_mm_hg': 755.93, 'RH_8': 42.29, 'T_out': 5.77, 'T2': 19.57, 'RH_2': 40.59, 'T7': 19.5, 'Appliances': 60.0, 'RH_9': 40.7, 'RH_4': 38.33, 'T1': 21.29, 'T9': 18.7, 'T3': 21.6, 'rv2': 24.91, 'RH_6': 67.16, 'T6': 6.06, 'Tdewpoint': 2.7, 'RH_3': 38.7, 'RH_7': 34.5, 'lights': 0.0}, 'stddev': {'rv1': 14.52, 'RH_out': 12.95, 'Visibility': 12.44, 'Windspeed': 2.56, 'RH_1': 3.6, 'T5': 1.3, 'T4': 1.51, 'T8': 1.71, 'RH_5': 9.03, 'Press_mm_hg': 7.81, 'RH_8': 5.24, 'T_out': 4.14, 'T2': 1.52, 'RH_2': 3.41, 'T7': 1.58, 'Appliances': 105.23, 'RH_9': 4.07, 'RH_4': 4.29, 'T1': 1.21, 'T9': 1.43, 'T3': 1.5, 'rv2': 14.52, 'RH_6': 27.7, 'T6': 4.69, 'Tdewpoint': 3.53, 'RH_3': 3.2, 'RH_7': 5.06, 'lights': 8.39}})\n",
        "\n",
        "assert q1().eq(aq1).all(axis=1).all()"
      ],
      "execution_count": null,
      "outputs": []
    },
    {
      "cell_type": "markdown",
      "metadata": {
        "id": "2SEiG-ciy8qO"
      },
      "source": [
        "### Q2: Calculate(10 points) and plot(5 points) the average daily temperature of the teenager room 2 in February. -- 15 points"
      ]
    },
    {
      "cell_type": "code",
      "metadata": {
        "id": "dFB2ZP0py8qO"
      },
      "source": [
        "def q2():\n",
        "    \"\"\"\n",
        "    :return: List\n",
        "    \"\"\"\n",
        "    pass"
      ],
      "execution_count": null,
      "outputs": []
    },
    {
      "cell_type": "code",
      "metadata": {
        "id": "2cpET3Wxy8qO",
        "outputId": "5c35e4c6-931e-43b8-c765-e791309c140f"
      },
      "source": [
        "aq2 = [20.65, 20.59, 21.29, 21.29, 20.65, 20.95, 21.73, 21.97, 22.29, 22.45, 22.63, 22.82, 22.12, 21.61, 21.47, 21.52, 21.35, 20.45, 19.97, 20.4, 21.44, 21.28, 20.88, 21.01, 21.21, 20.34, 21.15, 21.51, 21.51]\n",
        "\n",
        "assert q2() == aq2"
      ],
      "execution_count": null,
      "outputs": [
        {
          "output_type": "display_data",
          "data": {
            "application/vnd.plotly.v1+json": {
              "config": {
                "plotlyServerURL": "https://plot.ly"
              },
              "data": [
                {
                  "mode": "lines",
                  "name": "T8 Mean",
                  "type": "scatter",
                  "x": [
                    "2016-02-01T00:00:00Z",
                    "2016-02-02T00:00:00Z",
                    "2016-02-03T00:00:00Z",
                    "2016-02-04T00:00:00Z",
                    "2016-02-05T00:00:00Z",
                    "2016-02-06T00:00:00Z",
                    "2016-02-07T00:00:00Z",
                    "2016-02-08T00:00:00Z",
                    "2016-02-09T00:00:00Z",
                    "2016-02-10T00:00:00Z",
                    "2016-02-11T00:00:00Z",
                    "2016-02-12T00:00:00Z",
                    "2016-02-13T00:00:00Z",
                    "2016-02-14T00:00:00Z",
                    "2016-02-15T00:00:00Z",
                    "2016-02-16T00:00:00Z",
                    "2016-02-17T00:00:00Z",
                    "2016-02-18T00:00:00Z",
                    "2016-02-19T00:00:00Z",
                    "2016-02-20T00:00:00Z",
                    "2016-02-21T00:00:00Z",
                    "2016-02-22T00:00:00Z",
                    "2016-02-23T00:00:00Z",
                    "2016-02-24T00:00:00Z",
                    "2016-02-25T00:00:00Z",
                    "2016-02-26T00:00:00Z",
                    "2016-02-27T00:00:00Z",
                    "2016-02-28T00:00:00Z",
                    "2016-02-29T00:00:00Z"
                  ],
                  "y": [
                    20.647789351851845,
                    20.58792052469135,
                    21.285480437545377,
                    21.29040509259258,
                    20.64804783950617,
                    20.953607253086414,
                    21.72868827160494,
                    21.96793936092954,
                    22.294637345679,
                    22.445177469135796,
                    22.626242283950607,
                    22.82373774509803,
                    22.123067129629625,
                    21.605543981481464,
                    21.47430362654319,
                    21.516828703703677,
                    21.34776388888887,
                    20.450484457671944,
                    19.970666666666652,
                    20.402621527777754,
                    21.441006944444418,
                    21.284641203703686,
                    20.877372685185154,
                    21.008929398148137,
                    21.21401041666665,
                    20.337141203703688,
                    21.146307870370336,
                    21.506626157407382,
                    21.507980324074055
                  ]
                }
              ],
              "layout": {
                "showlegend": true,
                "template": {
                  "data": {
                    "bar": [
                      {
                        "error_x": {
                          "color": "#2a3f5f"
                        },
                        "error_y": {
                          "color": "#2a3f5f"
                        },
                        "marker": {
                          "line": {
                            "color": "#E5ECF6",
                            "width": 0.5
                          }
                        },
                        "type": "bar"
                      }
                    ],
                    "barpolar": [
                      {
                        "marker": {
                          "line": {
                            "color": "#E5ECF6",
                            "width": 0.5
                          }
                        },
                        "type": "barpolar"
                      }
                    ],
                    "carpet": [
                      {
                        "aaxis": {
                          "endlinecolor": "#2a3f5f",
                          "gridcolor": "white",
                          "linecolor": "white",
                          "minorgridcolor": "white",
                          "startlinecolor": "#2a3f5f"
                        },
                        "baxis": {
                          "endlinecolor": "#2a3f5f",
                          "gridcolor": "white",
                          "linecolor": "white",
                          "minorgridcolor": "white",
                          "startlinecolor": "#2a3f5f"
                        },
                        "type": "carpet"
                      }
                    ],
                    "choropleth": [
                      {
                        "colorbar": {
                          "outlinewidth": 0,
                          "ticks": ""
                        },
                        "type": "choropleth"
                      }
                    ],
                    "contour": [
                      {
                        "colorbar": {
                          "outlinewidth": 0,
                          "ticks": ""
                        },
                        "colorscale": [
                          [
                            0,
                            "#0d0887"
                          ],
                          [
                            0.1111111111111111,
                            "#46039f"
                          ],
                          [
                            0.2222222222222222,
                            "#7201a8"
                          ],
                          [
                            0.3333333333333333,
                            "#9c179e"
                          ],
                          [
                            0.4444444444444444,
                            "#bd3786"
                          ],
                          [
                            0.5555555555555556,
                            "#d8576b"
                          ],
                          [
                            0.6666666666666666,
                            "#ed7953"
                          ],
                          [
                            0.7777777777777778,
                            "#fb9f3a"
                          ],
                          [
                            0.8888888888888888,
                            "#fdca26"
                          ],
                          [
                            1,
                            "#f0f921"
                          ]
                        ],
                        "type": "contour"
                      }
                    ],
                    "contourcarpet": [
                      {
                        "colorbar": {
                          "outlinewidth": 0,
                          "ticks": ""
                        },
                        "type": "contourcarpet"
                      }
                    ],
                    "heatmap": [
                      {
                        "colorbar": {
                          "outlinewidth": 0,
                          "ticks": ""
                        },
                        "colorscale": [
                          [
                            0,
                            "#0d0887"
                          ],
                          [
                            0.1111111111111111,
                            "#46039f"
                          ],
                          [
                            0.2222222222222222,
                            "#7201a8"
                          ],
                          [
                            0.3333333333333333,
                            "#9c179e"
                          ],
                          [
                            0.4444444444444444,
                            "#bd3786"
                          ],
                          [
                            0.5555555555555556,
                            "#d8576b"
                          ],
                          [
                            0.6666666666666666,
                            "#ed7953"
                          ],
                          [
                            0.7777777777777778,
                            "#fb9f3a"
                          ],
                          [
                            0.8888888888888888,
                            "#fdca26"
                          ],
                          [
                            1,
                            "#f0f921"
                          ]
                        ],
                        "type": "heatmap"
                      }
                    ],
                    "heatmapgl": [
                      {
                        "colorbar": {
                          "outlinewidth": 0,
                          "ticks": ""
                        },
                        "colorscale": [
                          [
                            0,
                            "#0d0887"
                          ],
                          [
                            0.1111111111111111,
                            "#46039f"
                          ],
                          [
                            0.2222222222222222,
                            "#7201a8"
                          ],
                          [
                            0.3333333333333333,
                            "#9c179e"
                          ],
                          [
                            0.4444444444444444,
                            "#bd3786"
                          ],
                          [
                            0.5555555555555556,
                            "#d8576b"
                          ],
                          [
                            0.6666666666666666,
                            "#ed7953"
                          ],
                          [
                            0.7777777777777778,
                            "#fb9f3a"
                          ],
                          [
                            0.8888888888888888,
                            "#fdca26"
                          ],
                          [
                            1,
                            "#f0f921"
                          ]
                        ],
                        "type": "heatmapgl"
                      }
                    ],
                    "histogram": [
                      {
                        "marker": {
                          "colorbar": {
                            "outlinewidth": 0,
                            "ticks": ""
                          }
                        },
                        "type": "histogram"
                      }
                    ],
                    "histogram2d": [
                      {
                        "colorbar": {
                          "outlinewidth": 0,
                          "ticks": ""
                        },
                        "colorscale": [
                          [
                            0,
                            "#0d0887"
                          ],
                          [
                            0.1111111111111111,
                            "#46039f"
                          ],
                          [
                            0.2222222222222222,
                            "#7201a8"
                          ],
                          [
                            0.3333333333333333,
                            "#9c179e"
                          ],
                          [
                            0.4444444444444444,
                            "#bd3786"
                          ],
                          [
                            0.5555555555555556,
                            "#d8576b"
                          ],
                          [
                            0.6666666666666666,
                            "#ed7953"
                          ],
                          [
                            0.7777777777777778,
                            "#fb9f3a"
                          ],
                          [
                            0.8888888888888888,
                            "#fdca26"
                          ],
                          [
                            1,
                            "#f0f921"
                          ]
                        ],
                        "type": "histogram2d"
                      }
                    ],
                    "histogram2dcontour": [
                      {
                        "colorbar": {
                          "outlinewidth": 0,
                          "ticks": ""
                        },
                        "colorscale": [
                          [
                            0,
                            "#0d0887"
                          ],
                          [
                            0.1111111111111111,
                            "#46039f"
                          ],
                          [
                            0.2222222222222222,
                            "#7201a8"
                          ],
                          [
                            0.3333333333333333,
                            "#9c179e"
                          ],
                          [
                            0.4444444444444444,
                            "#bd3786"
                          ],
                          [
                            0.5555555555555556,
                            "#d8576b"
                          ],
                          [
                            0.6666666666666666,
                            "#ed7953"
                          ],
                          [
                            0.7777777777777778,
                            "#fb9f3a"
                          ],
                          [
                            0.8888888888888888,
                            "#fdca26"
                          ],
                          [
                            1,
                            "#f0f921"
                          ]
                        ],
                        "type": "histogram2dcontour"
                      }
                    ],
                    "mesh3d": [
                      {
                        "colorbar": {
                          "outlinewidth": 0,
                          "ticks": ""
                        },
                        "type": "mesh3d"
                      }
                    ],
                    "parcoords": [
                      {
                        "line": {
                          "colorbar": {
                            "outlinewidth": 0,
                            "ticks": ""
                          }
                        },
                        "type": "parcoords"
                      }
                    ],
                    "pie": [
                      {
                        "automargin": true,
                        "type": "pie"
                      }
                    ],
                    "scatter": [
                      {
                        "marker": {
                          "colorbar": {
                            "outlinewidth": 0,
                            "ticks": ""
                          }
                        },
                        "type": "scatter"
                      }
                    ],
                    "scatter3d": [
                      {
                        "line": {
                          "colorbar": {
                            "outlinewidth": 0,
                            "ticks": ""
                          }
                        },
                        "marker": {
                          "colorbar": {
                            "outlinewidth": 0,
                            "ticks": ""
                          }
                        },
                        "type": "scatter3d"
                      }
                    ],
                    "scattercarpet": [
                      {
                        "marker": {
                          "colorbar": {
                            "outlinewidth": 0,
                            "ticks": ""
                          }
                        },
                        "type": "scattercarpet"
                      }
                    ],
                    "scattergeo": [
                      {
                        "marker": {
                          "colorbar": {
                            "outlinewidth": 0,
                            "ticks": ""
                          }
                        },
                        "type": "scattergeo"
                      }
                    ],
                    "scattergl": [
                      {
                        "marker": {
                          "colorbar": {
                            "outlinewidth": 0,
                            "ticks": ""
                          }
                        },
                        "type": "scattergl"
                      }
                    ],
                    "scattermapbox": [
                      {
                        "marker": {
                          "colorbar": {
                            "outlinewidth": 0,
                            "ticks": ""
                          }
                        },
                        "type": "scattermapbox"
                      }
                    ],
                    "scatterpolar": [
                      {
                        "marker": {
                          "colorbar": {
                            "outlinewidth": 0,
                            "ticks": ""
                          }
                        },
                        "type": "scatterpolar"
                      }
                    ],
                    "scatterpolargl": [
                      {
                        "marker": {
                          "colorbar": {
                            "outlinewidth": 0,
                            "ticks": ""
                          }
                        },
                        "type": "scatterpolargl"
                      }
                    ],
                    "scatterternary": [
                      {
                        "marker": {
                          "colorbar": {
                            "outlinewidth": 0,
                            "ticks": ""
                          }
                        },
                        "type": "scatterternary"
                      }
                    ],
                    "surface": [
                      {
                        "colorbar": {
                          "outlinewidth": 0,
                          "ticks": ""
                        },
                        "colorscale": [
                          [
                            0,
                            "#0d0887"
                          ],
                          [
                            0.1111111111111111,
                            "#46039f"
                          ],
                          [
                            0.2222222222222222,
                            "#7201a8"
                          ],
                          [
                            0.3333333333333333,
                            "#9c179e"
                          ],
                          [
                            0.4444444444444444,
                            "#bd3786"
                          ],
                          [
                            0.5555555555555556,
                            "#d8576b"
                          ],
                          [
                            0.6666666666666666,
                            "#ed7953"
                          ],
                          [
                            0.7777777777777778,
                            "#fb9f3a"
                          ],
                          [
                            0.8888888888888888,
                            "#fdca26"
                          ],
                          [
                            1,
                            "#f0f921"
                          ]
                        ],
                        "type": "surface"
                      }
                    ],
                    "table": [
                      {
                        "cells": {
                          "fill": {
                            "color": "#EBF0F8"
                          },
                          "line": {
                            "color": "white"
                          }
                        },
                        "header": {
                          "fill": {
                            "color": "#C8D4E3"
                          },
                          "line": {
                            "color": "white"
                          }
                        },
                        "type": "table"
                      }
                    ]
                  },
                  "layout": {
                    "annotationdefaults": {
                      "arrowcolor": "#2a3f5f",
                      "arrowhead": 0,
                      "arrowwidth": 1
                    },
                    "autotypenumbers": "strict",
                    "coloraxis": {
                      "colorbar": {
                        "outlinewidth": 0,
                        "ticks": ""
                      }
                    },
                    "colorscale": {
                      "diverging": [
                        [
                          0,
                          "#8e0152"
                        ],
                        [
                          0.1,
                          "#c51b7d"
                        ],
                        [
                          0.2,
                          "#de77ae"
                        ],
                        [
                          0.3,
                          "#f1b6da"
                        ],
                        [
                          0.4,
                          "#fde0ef"
                        ],
                        [
                          0.5,
                          "#f7f7f7"
                        ],
                        [
                          0.6,
                          "#e6f5d0"
                        ],
                        [
                          0.7,
                          "#b8e186"
                        ],
                        [
                          0.8,
                          "#7fbc41"
                        ],
                        [
                          0.9,
                          "#4d9221"
                        ],
                        [
                          1,
                          "#276419"
                        ]
                      ],
                      "sequential": [
                        [
                          0,
                          "#0d0887"
                        ],
                        [
                          0.1111111111111111,
                          "#46039f"
                        ],
                        [
                          0.2222222222222222,
                          "#7201a8"
                        ],
                        [
                          0.3333333333333333,
                          "#9c179e"
                        ],
                        [
                          0.4444444444444444,
                          "#bd3786"
                        ],
                        [
                          0.5555555555555556,
                          "#d8576b"
                        ],
                        [
                          0.6666666666666666,
                          "#ed7953"
                        ],
                        [
                          0.7777777777777778,
                          "#fb9f3a"
                        ],
                        [
                          0.8888888888888888,
                          "#fdca26"
                        ],
                        [
                          1,
                          "#f0f921"
                        ]
                      ],
                      "sequentialminus": [
                        [
                          0,
                          "#0d0887"
                        ],
                        [
                          0.1111111111111111,
                          "#46039f"
                        ],
                        [
                          0.2222222222222222,
                          "#7201a8"
                        ],
                        [
                          0.3333333333333333,
                          "#9c179e"
                        ],
                        [
                          0.4444444444444444,
                          "#bd3786"
                        ],
                        [
                          0.5555555555555556,
                          "#d8576b"
                        ],
                        [
                          0.6666666666666666,
                          "#ed7953"
                        ],
                        [
                          0.7777777777777778,
                          "#fb9f3a"
                        ],
                        [
                          0.8888888888888888,
                          "#fdca26"
                        ],
                        [
                          1,
                          "#f0f921"
                        ]
                      ]
                    },
                    "colorway": [
                      "#636efa",
                      "#EF553B",
                      "#00cc96",
                      "#ab63fa",
                      "#FFA15A",
                      "#19d3f3",
                      "#FF6692",
                      "#B6E880",
                      "#FF97FF",
                      "#FECB52"
                    ],
                    "font": {
                      "color": "#2a3f5f"
                    },
                    "geo": {
                      "bgcolor": "white",
                      "lakecolor": "white",
                      "landcolor": "#E5ECF6",
                      "showlakes": true,
                      "showland": true,
                      "subunitcolor": "white"
                    },
                    "hoverlabel": {
                      "align": "left"
                    },
                    "hovermode": "closest",
                    "mapbox": {
                      "style": "light"
                    },
                    "paper_bgcolor": "white",
                    "plot_bgcolor": "#E5ECF6",
                    "polar": {
                      "angularaxis": {
                        "gridcolor": "white",
                        "linecolor": "white",
                        "ticks": ""
                      },
                      "bgcolor": "#E5ECF6",
                      "radialaxis": {
                        "gridcolor": "white",
                        "linecolor": "white",
                        "ticks": ""
                      }
                    },
                    "scene": {
                      "xaxis": {
                        "backgroundcolor": "#E5ECF6",
                        "gridcolor": "white",
                        "gridwidth": 2,
                        "linecolor": "white",
                        "showbackground": true,
                        "ticks": "",
                        "zerolinecolor": "white"
                      },
                      "yaxis": {
                        "backgroundcolor": "#E5ECF6",
                        "gridcolor": "white",
                        "gridwidth": 2,
                        "linecolor": "white",
                        "showbackground": true,
                        "ticks": "",
                        "zerolinecolor": "white"
                      },
                      "zaxis": {
                        "backgroundcolor": "#E5ECF6",
                        "gridcolor": "white",
                        "gridwidth": 2,
                        "linecolor": "white",
                        "showbackground": true,
                        "ticks": "",
                        "zerolinecolor": "white"
                      }
                    },
                    "shapedefaults": {
                      "line": {
                        "color": "#2a3f5f"
                      }
                    },
                    "ternary": {
                      "aaxis": {
                        "gridcolor": "white",
                        "linecolor": "white",
                        "ticks": ""
                      },
                      "baxis": {
                        "gridcolor": "white",
                        "linecolor": "white",
                        "ticks": ""
                      },
                      "bgcolor": "#E5ECF6",
                      "caxis": {
                        "gridcolor": "white",
                        "linecolor": "white",
                        "ticks": ""
                      }
                    },
                    "title": {
                      "x": 0.05
                    },
                    "xaxis": {
                      "automargin": true,
                      "gridcolor": "white",
                      "linecolor": "white",
                      "ticks": "",
                      "title": {
                        "standoff": 15
                      },
                      "zerolinecolor": "white",
                      "zerolinewidth": 2
                    },
                    "yaxis": {
                      "automargin": true,
                      "gridcolor": "white",
                      "linecolor": "white",
                      "ticks": "",
                      "title": {
                        "standoff": 15
                      },
                      "zerolinecolor": "white",
                      "zerolinewidth": 2
                    }
                  }
                }
              }
            }
          },
          "metadata": {
            "tags": []
          }
        }
      ]
    },
    {
      "cell_type": "markdown",
      "metadata": {
        "id": "_Wu4kwfxy8qO"
      },
      "source": [
        "### Q3: Return(10 points) and plot(5 points) 7-day rolling average values of daily mean external humidity. -- 10 points"
      ]
    },
    {
      "cell_type": "code",
      "metadata": {
        "id": "__Sz9qcOy8qO"
      },
      "source": [
        "def q3():\n",
        "    \"\"\"\n",
        "    :return: List\n",
        "    \"\"\"\n",
        "    pass"
      ],
      "execution_count": null,
      "outputs": []
    },
    {
      "cell_type": "code",
      "metadata": {
        "id": "FQp5odu1y8qO",
        "outputId": "147ab47d-f934-47dd-a89a-beff891d5ea9"
      },
      "source": [
        "aq3 = [86.93, 85.92, 85.38, 86.09, 85.24, 84.9, 85.96, 87.51, 87.19, 87.46, 87.07, 87.79, 87.28, 85.89, 85.65, 86.5, 87.34, 86.88, 87.73, 89.32, 87.94, 85.21, 83.88, 83.56, 84.87, 85.29, 83.95, 86.07, 88.88, 89.28, 88.0, 86.83, 85.37, 85.54, 85.36, 84.81, 86.48, 87.74, 87.75, 87.48, 86.77, 83.39, 79.82, 77.04, 77.7, 77.26, 77.66, 78.48, 81.3, 85.4, 88.29, 86.78, 85.08, 83.45, 82.21, 81.05, 78.71, 76.44, 75.74, 76.1, 75.76, 77.5, 77.59, 77.95, 78.58, 78.57, 80.84, 82.15, 81.76, 81.31, 81.04, 80.18, 79.67, 77.94, 79.15, 78.11, 78.54, 77.98, 78.65, 79.34, 80.32, 78.25, 78.65, 77.85, 78.4, 76.46, 75.73, 76.61, 77.23, 76.8, 77.86, 78.61, 79.62, 79.55, 76.31, 73.59, 71.73, 70.2, 70.19, 72.86, 74.02, 76.31, 78.73, 80.11]\n",
        "\n",
        "assert q3() == aq3"
      ],
      "execution_count": null,
      "outputs": [
        {
          "output_type": "display_data",
          "data": {
            "application/vnd.plotly.v1+json": {
              "config": {
                "plotlyServerURL": "https://plot.ly"
              },
              "data": [
                {
                  "mode": "lines",
                  "name": "RH_out MOV_AVG",
                  "type": "scatter",
                  "x": [
                    "2016-01-17T00:00:00Z",
                    "2016-01-18T00:00:00Z",
                    "2016-01-19T00:00:00Z",
                    "2016-01-20T00:00:00Z",
                    "2016-01-21T00:00:00Z",
                    "2016-01-22T00:00:00Z",
                    "2016-01-23T00:00:00Z",
                    "2016-01-24T00:00:00Z",
                    "2016-01-25T00:00:00Z",
                    "2016-01-26T00:00:00Z",
                    "2016-01-27T00:00:00Z",
                    "2016-01-28T00:00:00Z",
                    "2016-01-29T00:00:00Z",
                    "2016-01-30T00:00:00Z",
                    "2016-01-31T00:00:00Z",
                    "2016-02-01T00:00:00Z",
                    "2016-02-02T00:00:00Z",
                    "2016-02-03T00:00:00Z",
                    "2016-02-04T00:00:00Z",
                    "2016-02-05T00:00:00Z",
                    "2016-02-06T00:00:00Z",
                    "2016-02-07T00:00:00Z",
                    "2016-02-08T00:00:00Z",
                    "2016-02-09T00:00:00Z",
                    "2016-02-10T00:00:00Z",
                    "2016-02-11T00:00:00Z",
                    "2016-02-12T00:00:00Z",
                    "2016-02-13T00:00:00Z",
                    "2016-02-14T00:00:00Z",
                    "2016-02-15T00:00:00Z",
                    "2016-02-16T00:00:00Z",
                    "2016-02-17T00:00:00Z",
                    "2016-02-18T00:00:00Z",
                    "2016-02-19T00:00:00Z",
                    "2016-02-20T00:00:00Z",
                    "2016-02-21T00:00:00Z",
                    "2016-02-22T00:00:00Z",
                    "2016-02-23T00:00:00Z",
                    "2016-02-24T00:00:00Z",
                    "2016-02-25T00:00:00Z",
                    "2016-02-26T00:00:00Z",
                    "2016-02-27T00:00:00Z",
                    "2016-02-28T00:00:00Z",
                    "2016-02-29T00:00:00Z",
                    "2016-03-01T00:00:00Z",
                    "2016-03-02T00:00:00Z",
                    "2016-03-03T00:00:00Z",
                    "2016-03-04T00:00:00Z",
                    "2016-03-05T00:00:00Z",
                    "2016-03-06T00:00:00Z",
                    "2016-03-07T00:00:00Z",
                    "2016-03-08T00:00:00Z",
                    "2016-03-09T00:00:00Z",
                    "2016-03-10T00:00:00Z",
                    "2016-03-11T00:00:00Z",
                    "2016-03-12T00:00:00Z",
                    "2016-03-13T00:00:00Z",
                    "2016-03-14T00:00:00Z",
                    "2016-03-15T00:00:00Z",
                    "2016-03-16T00:00:00Z",
                    "2016-03-17T00:00:00Z",
                    "2016-03-18T00:00:00Z",
                    "2016-03-19T00:00:00Z",
                    "2016-03-20T00:00:00Z",
                    "2016-03-21T00:00:00Z",
                    "2016-03-22T00:00:00Z",
                    "2016-03-23T00:00:00Z",
                    "2016-03-24T00:00:00Z",
                    "2016-03-25T00:00:00Z",
                    "2016-03-26T00:00:00Z",
                    "2016-03-27T00:00:00Z",
                    "2016-03-28T00:00:00Z",
                    "2016-03-29T00:00:00Z",
                    "2016-03-30T00:00:00Z",
                    "2016-03-31T00:00:00Z",
                    "2016-04-01T00:00:00Z",
                    "2016-04-02T00:00:00Z",
                    "2016-04-03T00:00:00Z",
                    "2016-04-04T00:00:00Z",
                    "2016-04-05T00:00:00Z",
                    "2016-04-06T00:00:00Z",
                    "2016-04-07T00:00:00Z",
                    "2016-04-08T00:00:00Z",
                    "2016-04-09T00:00:00Z",
                    "2016-04-10T00:00:00Z",
                    "2016-04-11T00:00:00Z",
                    "2016-04-12T00:00:00Z",
                    "2016-04-13T00:00:00Z",
                    "2016-04-14T00:00:00Z",
                    "2016-04-15T00:00:00Z",
                    "2016-04-16T00:00:00Z",
                    "2016-04-17T00:00:00Z",
                    "2016-04-18T00:00:00Z",
                    "2016-04-19T00:00:00Z",
                    "2016-04-20T00:00:00Z",
                    "2016-04-21T00:00:00Z",
                    "2016-04-22T00:00:00Z",
                    "2016-04-23T00:00:00Z",
                    "2016-04-24T00:00:00Z",
                    "2016-04-25T00:00:00Z",
                    "2016-04-26T00:00:00Z",
                    "2016-04-27T00:00:00Z",
                    "2016-04-28T00:00:00Z",
                    "2016-04-29T00:00:00Z"
                  ],
                  "y": [
                    86.93069727891157,
                    85.92212301587301,
                    85.37996031746032,
                    86.08680555555554,
                    85.23511904761904,
                    84.9002976190476,
                    85.96031746031746,
                    87.51041666666666,
                    87.19494047619047,
                    87.45932539682539,
                    87.06746031746032,
                    87.79265873015872,
                    87.27678571428571,
                    85.88640873015872,
                    85.65228174603173,
                    86.49751984126985,
                    87.33978174603176,
                    86.87896825396827,
                    87.73164682539684,
                    89.31696428571429,
                    87.93601190476191,
                    85.20684523809526,
                    83.8794642857143,
                    83.56101190476193,
                    84.87351190476193,
                    85.29067460317462,
                    83.95039682539685,
                    86.06746031746034,
                    88.8774801587302,
                    89.27976190476194,
                    88.00000000000003,
                    86.82787698412702,
                    85.36706349206352,
                    85.54117063492068,
                    85.35863095238099,
                    84.80505952380956,
                    86.47867063492068,
                    87.74255952380955,
                    87.74851190476193,
                    87.47817460317462,
                    86.77033730158733,
                    83.39484126984131,
                    79.81894841269845,
                    77.03918650793655,
                    77.7008928571429,
                    77.2554563492064,
                    77.66220238095242,
                    78.47619047619051,
                    81.29712301587305,
                    85.40277777777783,
                    88.28968253968257,
                    86.78025793650798,
                    85.07936507936513,
                    83.44990079365084,
                    82.21428571428577,
                    81.04712301587308,
                    78.70833333333339,
                    76.4444444444445,
                    75.74206349206356,
                    76.1006944444445,
                    75.76339285714292,
                    77.49553571428578,
                    77.59375000000007,
                    77.95287698412706,
                    78.57936507936515,
                    78.56572420634927,
                    80.83531746031754,
                    82.14781746031754,
                    81.76339285714293,
                    81.3065476190477,
                    81.03720238095248,
                    80.17857142857153,
                    79.6718750000001,
                    77.94246031746043,
                    79.15277777777787,
                    78.11111111111121,
                    78.53819444444456,
                    77.98214285714297,
                    78.65376984126995,
                    79.34126984126995,
                    80.31994047619058,
                    78.24851190476201,
                    78.65327380952392,
                    77.84722222222233,
                    78.40029761904773,
                    76.45585317460329,
                    75.73214285714299,
                    76.61359126984141,
                    77.23015873015886,
                    76.80059523809537,
                    77.85714285714299,
                    78.61259920634934,
                    79.6245039682541,
                    79.55307539682553,
                    76.30505952380966,
                    73.59375000000014,
                    71.7336309523811,
                    70.19791666666681,
                    70.1884920634922,
                    72.86359126984141,
                    74.02182539682553,
                    76.31299603174617,
                    78.72536375661389,
                    80.11248110355267
                  ]
                }
              ],
              "layout": {
                "showlegend": true,
                "template": {
                  "data": {
                    "bar": [
                      {
                        "error_x": {
                          "color": "#2a3f5f"
                        },
                        "error_y": {
                          "color": "#2a3f5f"
                        },
                        "marker": {
                          "line": {
                            "color": "#E5ECF6",
                            "width": 0.5
                          }
                        },
                        "type": "bar"
                      }
                    ],
                    "barpolar": [
                      {
                        "marker": {
                          "line": {
                            "color": "#E5ECF6",
                            "width": 0.5
                          }
                        },
                        "type": "barpolar"
                      }
                    ],
                    "carpet": [
                      {
                        "aaxis": {
                          "endlinecolor": "#2a3f5f",
                          "gridcolor": "white",
                          "linecolor": "white",
                          "minorgridcolor": "white",
                          "startlinecolor": "#2a3f5f"
                        },
                        "baxis": {
                          "endlinecolor": "#2a3f5f",
                          "gridcolor": "white",
                          "linecolor": "white",
                          "minorgridcolor": "white",
                          "startlinecolor": "#2a3f5f"
                        },
                        "type": "carpet"
                      }
                    ],
                    "choropleth": [
                      {
                        "colorbar": {
                          "outlinewidth": 0,
                          "ticks": ""
                        },
                        "type": "choropleth"
                      }
                    ],
                    "contour": [
                      {
                        "colorbar": {
                          "outlinewidth": 0,
                          "ticks": ""
                        },
                        "colorscale": [
                          [
                            0,
                            "#0d0887"
                          ],
                          [
                            0.1111111111111111,
                            "#46039f"
                          ],
                          [
                            0.2222222222222222,
                            "#7201a8"
                          ],
                          [
                            0.3333333333333333,
                            "#9c179e"
                          ],
                          [
                            0.4444444444444444,
                            "#bd3786"
                          ],
                          [
                            0.5555555555555556,
                            "#d8576b"
                          ],
                          [
                            0.6666666666666666,
                            "#ed7953"
                          ],
                          [
                            0.7777777777777778,
                            "#fb9f3a"
                          ],
                          [
                            0.8888888888888888,
                            "#fdca26"
                          ],
                          [
                            1,
                            "#f0f921"
                          ]
                        ],
                        "type": "contour"
                      }
                    ],
                    "contourcarpet": [
                      {
                        "colorbar": {
                          "outlinewidth": 0,
                          "ticks": ""
                        },
                        "type": "contourcarpet"
                      }
                    ],
                    "heatmap": [
                      {
                        "colorbar": {
                          "outlinewidth": 0,
                          "ticks": ""
                        },
                        "colorscale": [
                          [
                            0,
                            "#0d0887"
                          ],
                          [
                            0.1111111111111111,
                            "#46039f"
                          ],
                          [
                            0.2222222222222222,
                            "#7201a8"
                          ],
                          [
                            0.3333333333333333,
                            "#9c179e"
                          ],
                          [
                            0.4444444444444444,
                            "#bd3786"
                          ],
                          [
                            0.5555555555555556,
                            "#d8576b"
                          ],
                          [
                            0.6666666666666666,
                            "#ed7953"
                          ],
                          [
                            0.7777777777777778,
                            "#fb9f3a"
                          ],
                          [
                            0.8888888888888888,
                            "#fdca26"
                          ],
                          [
                            1,
                            "#f0f921"
                          ]
                        ],
                        "type": "heatmap"
                      }
                    ],
                    "heatmapgl": [
                      {
                        "colorbar": {
                          "outlinewidth": 0,
                          "ticks": ""
                        },
                        "colorscale": [
                          [
                            0,
                            "#0d0887"
                          ],
                          [
                            0.1111111111111111,
                            "#46039f"
                          ],
                          [
                            0.2222222222222222,
                            "#7201a8"
                          ],
                          [
                            0.3333333333333333,
                            "#9c179e"
                          ],
                          [
                            0.4444444444444444,
                            "#bd3786"
                          ],
                          [
                            0.5555555555555556,
                            "#d8576b"
                          ],
                          [
                            0.6666666666666666,
                            "#ed7953"
                          ],
                          [
                            0.7777777777777778,
                            "#fb9f3a"
                          ],
                          [
                            0.8888888888888888,
                            "#fdca26"
                          ],
                          [
                            1,
                            "#f0f921"
                          ]
                        ],
                        "type": "heatmapgl"
                      }
                    ],
                    "histogram": [
                      {
                        "marker": {
                          "colorbar": {
                            "outlinewidth": 0,
                            "ticks": ""
                          }
                        },
                        "type": "histogram"
                      }
                    ],
                    "histogram2d": [
                      {
                        "colorbar": {
                          "outlinewidth": 0,
                          "ticks": ""
                        },
                        "colorscale": [
                          [
                            0,
                            "#0d0887"
                          ],
                          [
                            0.1111111111111111,
                            "#46039f"
                          ],
                          [
                            0.2222222222222222,
                            "#7201a8"
                          ],
                          [
                            0.3333333333333333,
                            "#9c179e"
                          ],
                          [
                            0.4444444444444444,
                            "#bd3786"
                          ],
                          [
                            0.5555555555555556,
                            "#d8576b"
                          ],
                          [
                            0.6666666666666666,
                            "#ed7953"
                          ],
                          [
                            0.7777777777777778,
                            "#fb9f3a"
                          ],
                          [
                            0.8888888888888888,
                            "#fdca26"
                          ],
                          [
                            1,
                            "#f0f921"
                          ]
                        ],
                        "type": "histogram2d"
                      }
                    ],
                    "histogram2dcontour": [
                      {
                        "colorbar": {
                          "outlinewidth": 0,
                          "ticks": ""
                        },
                        "colorscale": [
                          [
                            0,
                            "#0d0887"
                          ],
                          [
                            0.1111111111111111,
                            "#46039f"
                          ],
                          [
                            0.2222222222222222,
                            "#7201a8"
                          ],
                          [
                            0.3333333333333333,
                            "#9c179e"
                          ],
                          [
                            0.4444444444444444,
                            "#bd3786"
                          ],
                          [
                            0.5555555555555556,
                            "#d8576b"
                          ],
                          [
                            0.6666666666666666,
                            "#ed7953"
                          ],
                          [
                            0.7777777777777778,
                            "#fb9f3a"
                          ],
                          [
                            0.8888888888888888,
                            "#fdca26"
                          ],
                          [
                            1,
                            "#f0f921"
                          ]
                        ],
                        "type": "histogram2dcontour"
                      }
                    ],
                    "mesh3d": [
                      {
                        "colorbar": {
                          "outlinewidth": 0,
                          "ticks": ""
                        },
                        "type": "mesh3d"
                      }
                    ],
                    "parcoords": [
                      {
                        "line": {
                          "colorbar": {
                            "outlinewidth": 0,
                            "ticks": ""
                          }
                        },
                        "type": "parcoords"
                      }
                    ],
                    "pie": [
                      {
                        "automargin": true,
                        "type": "pie"
                      }
                    ],
                    "scatter": [
                      {
                        "marker": {
                          "colorbar": {
                            "outlinewidth": 0,
                            "ticks": ""
                          }
                        },
                        "type": "scatter"
                      }
                    ],
                    "scatter3d": [
                      {
                        "line": {
                          "colorbar": {
                            "outlinewidth": 0,
                            "ticks": ""
                          }
                        },
                        "marker": {
                          "colorbar": {
                            "outlinewidth": 0,
                            "ticks": ""
                          }
                        },
                        "type": "scatter3d"
                      }
                    ],
                    "scattercarpet": [
                      {
                        "marker": {
                          "colorbar": {
                            "outlinewidth": 0,
                            "ticks": ""
                          }
                        },
                        "type": "scattercarpet"
                      }
                    ],
                    "scattergeo": [
                      {
                        "marker": {
                          "colorbar": {
                            "outlinewidth": 0,
                            "ticks": ""
                          }
                        },
                        "type": "scattergeo"
                      }
                    ],
                    "scattergl": [
                      {
                        "marker": {
                          "colorbar": {
                            "outlinewidth": 0,
                            "ticks": ""
                          }
                        },
                        "type": "scattergl"
                      }
                    ],
                    "scattermapbox": [
                      {
                        "marker": {
                          "colorbar": {
                            "outlinewidth": 0,
                            "ticks": ""
                          }
                        },
                        "type": "scattermapbox"
                      }
                    ],
                    "scatterpolar": [
                      {
                        "marker": {
                          "colorbar": {
                            "outlinewidth": 0,
                            "ticks": ""
                          }
                        },
                        "type": "scatterpolar"
                      }
                    ],
                    "scatterpolargl": [
                      {
                        "marker": {
                          "colorbar": {
                            "outlinewidth": 0,
                            "ticks": ""
                          }
                        },
                        "type": "scatterpolargl"
                      }
                    ],
                    "scatterternary": [
                      {
                        "marker": {
                          "colorbar": {
                            "outlinewidth": 0,
                            "ticks": ""
                          }
                        },
                        "type": "scatterternary"
                      }
                    ],
                    "surface": [
                      {
                        "colorbar": {
                          "outlinewidth": 0,
                          "ticks": ""
                        },
                        "colorscale": [
                          [
                            0,
                            "#0d0887"
                          ],
                          [
                            0.1111111111111111,
                            "#46039f"
                          ],
                          [
                            0.2222222222222222,
                            "#7201a8"
                          ],
                          [
                            0.3333333333333333,
                            "#9c179e"
                          ],
                          [
                            0.4444444444444444,
                            "#bd3786"
                          ],
                          [
                            0.5555555555555556,
                            "#d8576b"
                          ],
                          [
                            0.6666666666666666,
                            "#ed7953"
                          ],
                          [
                            0.7777777777777778,
                            "#fb9f3a"
                          ],
                          [
                            0.8888888888888888,
                            "#fdca26"
                          ],
                          [
                            1,
                            "#f0f921"
                          ]
                        ],
                        "type": "surface"
                      }
                    ],
                    "table": [
                      {
                        "cells": {
                          "fill": {
                            "color": "#EBF0F8"
                          },
                          "line": {
                            "color": "white"
                          }
                        },
                        "header": {
                          "fill": {
                            "color": "#C8D4E3"
                          },
                          "line": {
                            "color": "white"
                          }
                        },
                        "type": "table"
                      }
                    ]
                  },
                  "layout": {
                    "annotationdefaults": {
                      "arrowcolor": "#2a3f5f",
                      "arrowhead": 0,
                      "arrowwidth": 1
                    },
                    "autotypenumbers": "strict",
                    "coloraxis": {
                      "colorbar": {
                        "outlinewidth": 0,
                        "ticks": ""
                      }
                    },
                    "colorscale": {
                      "diverging": [
                        [
                          0,
                          "#8e0152"
                        ],
                        [
                          0.1,
                          "#c51b7d"
                        ],
                        [
                          0.2,
                          "#de77ae"
                        ],
                        [
                          0.3,
                          "#f1b6da"
                        ],
                        [
                          0.4,
                          "#fde0ef"
                        ],
                        [
                          0.5,
                          "#f7f7f7"
                        ],
                        [
                          0.6,
                          "#e6f5d0"
                        ],
                        [
                          0.7,
                          "#b8e186"
                        ],
                        [
                          0.8,
                          "#7fbc41"
                        ],
                        [
                          0.9,
                          "#4d9221"
                        ],
                        [
                          1,
                          "#276419"
                        ]
                      ],
                      "sequential": [
                        [
                          0,
                          "#0d0887"
                        ],
                        [
                          0.1111111111111111,
                          "#46039f"
                        ],
                        [
                          0.2222222222222222,
                          "#7201a8"
                        ],
                        [
                          0.3333333333333333,
                          "#9c179e"
                        ],
                        [
                          0.4444444444444444,
                          "#bd3786"
                        ],
                        [
                          0.5555555555555556,
                          "#d8576b"
                        ],
                        [
                          0.6666666666666666,
                          "#ed7953"
                        ],
                        [
                          0.7777777777777778,
                          "#fb9f3a"
                        ],
                        [
                          0.8888888888888888,
                          "#fdca26"
                        ],
                        [
                          1,
                          "#f0f921"
                        ]
                      ],
                      "sequentialminus": [
                        [
                          0,
                          "#0d0887"
                        ],
                        [
                          0.1111111111111111,
                          "#46039f"
                        ],
                        [
                          0.2222222222222222,
                          "#7201a8"
                        ],
                        [
                          0.3333333333333333,
                          "#9c179e"
                        ],
                        [
                          0.4444444444444444,
                          "#bd3786"
                        ],
                        [
                          0.5555555555555556,
                          "#d8576b"
                        ],
                        [
                          0.6666666666666666,
                          "#ed7953"
                        ],
                        [
                          0.7777777777777778,
                          "#fb9f3a"
                        ],
                        [
                          0.8888888888888888,
                          "#fdca26"
                        ],
                        [
                          1,
                          "#f0f921"
                        ]
                      ]
                    },
                    "colorway": [
                      "#636efa",
                      "#EF553B",
                      "#00cc96",
                      "#ab63fa",
                      "#FFA15A",
                      "#19d3f3",
                      "#FF6692",
                      "#B6E880",
                      "#FF97FF",
                      "#FECB52"
                    ],
                    "font": {
                      "color": "#2a3f5f"
                    },
                    "geo": {
                      "bgcolor": "white",
                      "lakecolor": "white",
                      "landcolor": "#E5ECF6",
                      "showlakes": true,
                      "showland": true,
                      "subunitcolor": "white"
                    },
                    "hoverlabel": {
                      "align": "left"
                    },
                    "hovermode": "closest",
                    "mapbox": {
                      "style": "light"
                    },
                    "paper_bgcolor": "white",
                    "plot_bgcolor": "#E5ECF6",
                    "polar": {
                      "angularaxis": {
                        "gridcolor": "white",
                        "linecolor": "white",
                        "ticks": ""
                      },
                      "bgcolor": "#E5ECF6",
                      "radialaxis": {
                        "gridcolor": "white",
                        "linecolor": "white",
                        "ticks": ""
                      }
                    },
                    "scene": {
                      "xaxis": {
                        "backgroundcolor": "#E5ECF6",
                        "gridcolor": "white",
                        "gridwidth": 2,
                        "linecolor": "white",
                        "showbackground": true,
                        "ticks": "",
                        "zerolinecolor": "white"
                      },
                      "yaxis": {
                        "backgroundcolor": "#E5ECF6",
                        "gridcolor": "white",
                        "gridwidth": 2,
                        "linecolor": "white",
                        "showbackground": true,
                        "ticks": "",
                        "zerolinecolor": "white"
                      },
                      "zaxis": {
                        "backgroundcolor": "#E5ECF6",
                        "gridcolor": "white",
                        "gridwidth": 2,
                        "linecolor": "white",
                        "showbackground": true,
                        "ticks": "",
                        "zerolinecolor": "white"
                      }
                    },
                    "shapedefaults": {
                      "line": {
                        "color": "#2a3f5f"
                      }
                    },
                    "ternary": {
                      "aaxis": {
                        "gridcolor": "white",
                        "linecolor": "white",
                        "ticks": ""
                      },
                      "baxis": {
                        "gridcolor": "white",
                        "linecolor": "white",
                        "ticks": ""
                      },
                      "bgcolor": "#E5ECF6",
                      "caxis": {
                        "gridcolor": "white",
                        "linecolor": "white",
                        "ticks": ""
                      }
                    },
                    "title": {
                      "x": 0.05
                    },
                    "xaxis": {
                      "automargin": true,
                      "gridcolor": "white",
                      "linecolor": "white",
                      "ticks": "",
                      "title": {
                        "standoff": 15
                      },
                      "zerolinecolor": "white",
                      "zerolinewidth": 2
                    },
                    "yaxis": {
                      "automargin": true,
                      "gridcolor": "white",
                      "linecolor": "white",
                      "ticks": "",
                      "title": {
                        "standoff": 15
                      },
                      "zerolinecolor": "white",
                      "zerolinewidth": 2
                    }
                  }
                }
              }
            }
          },
          "metadata": {
            "tags": []
          }
        }
      ]
    },
    {
      "cell_type": "markdown",
      "metadata": {
        "id": "miiazgJwy8qP"
      },
      "source": [
        "### Q4: Obtain the number of days when the absolute difference in energy consumption between adjacent dates is greater than 100Wh. -- 10 points"
      ]
    },
    {
      "cell_type": "code",
      "metadata": {
        "id": "BFdPpstQy8qP"
      },
      "source": [
        "def q4():\n",
        "    \"\"\"\n",
        "    :return: int\n",
        "    \"\"\"\n",
        "    pass"
      ],
      "execution_count": null,
      "outputs": []
    },
    {
      "cell_type": "code",
      "metadata": {
        "id": "WAmwo843y8qP"
      },
      "source": [
        "assert q4() == 3"
      ],
      "execution_count": null,
      "outputs": []
    },
    {
      "cell_type": "markdown",
      "metadata": {
        "id": "S7GAiNV7y8qP"
      },
      "source": [
        "### Q5: Calculate the difference between the maximum and minimum daily mean energy consumption in March. -- 10 points"
      ]
    },
    {
      "cell_type": "code",
      "metadata": {
        "id": "V-JO0m9qy8qQ"
      },
      "source": [
        "def q5():\n",
        "    \"\"\"\n",
        "    :return: float\n",
        "    \"\"\"\n",
        "    pass"
      ],
      "execution_count": null,
      "outputs": []
    },
    {
      "cell_type": "code",
      "metadata": {
        "id": "bwHOB7KGy8qQ"
      },
      "source": [
        "assert q5() == 117.78"
      ],
      "execution_count": null,
      "outputs": []
    },
    {
      "cell_type": "markdown",
      "metadata": {
        "id": "W-0_hnoFy8qQ"
      },
      "source": [
        "### Q6: It is known that the daily average humidity outside the building (north side , column name: RH_6) has varying degrees of negative correlation with the daily mean temperature of rooms. Please determine which room’s temperature is most affected by this humidity (ie the smallest negcorrelation coefficient). Return the correlation coefficient and plot daily average curves for RH_6 and the field you identified. -- 15 points\n",
        "\n",
        "Hint: You may use the corr function in pandas to calculate correlation coefficients between DataFrame columns."
      ]
    },
    {
      "cell_type": "code",
      "metadata": {
        "id": "6FcqU83Py8qQ"
      },
      "source": [
        "def q6():\n",
        "    \"\"\"\n",
        "    :return: float\n",
        "    \"\"\"\n",
        "    pass"
      ],
      "execution_count": null,
      "outputs": []
    },
    {
      "cell_type": "code",
      "metadata": {
        "id": "HQlpe8dry8qQ",
        "outputId": "c9d9df7e-71ae-4302-aa19-4e8010e4bbed"
      },
      "source": [
        "assert q6() == -0.82"
      ],
      "execution_count": null,
      "outputs": [
        {
          "output_type": "display_data",
          "data": {
            "application/vnd.plotly.v1+json": {
              "config": {
                "plotlyServerURL": "https://plot.ly"
              },
              "data": [
                {
                  "mode": "lines",
                  "name": "mean_RH_6",
                  "type": "scatter",
                  "x": [
                    "2016-01-11T00:00:00Z",
                    "2016-01-12T00:00:00Z",
                    "2016-01-13T00:00:00Z",
                    "2016-01-14T00:00:00Z",
                    "2016-01-15T00:00:00Z",
                    "2016-01-16T00:00:00Z",
                    "2016-01-17T00:00:00Z",
                    "2016-01-18T00:00:00Z",
                    "2016-01-19T00:00:00Z",
                    "2016-01-20T00:00:00Z",
                    "2016-01-21T00:00:00Z",
                    "2016-01-22T00:00:00Z",
                    "2016-01-23T00:00:00Z",
                    "2016-01-24T00:00:00Z",
                    "2016-01-25T00:00:00Z",
                    "2016-01-26T00:00:00Z",
                    "2016-01-27T00:00:00Z",
                    "2016-01-28T00:00:00Z",
                    "2016-01-29T00:00:00Z",
                    "2016-01-30T00:00:00Z",
                    "2016-01-31T00:00:00Z",
                    "2016-02-01T00:00:00Z",
                    "2016-02-02T00:00:00Z",
                    "2016-02-03T00:00:00Z",
                    "2016-02-04T00:00:00Z",
                    "2016-02-05T00:00:00Z",
                    "2016-02-06T00:00:00Z",
                    "2016-02-07T00:00:00Z",
                    "2016-02-08T00:00:00Z",
                    "2016-02-09T00:00:00Z",
                    "2016-02-10T00:00:00Z",
                    "2016-02-11T00:00:00Z",
                    "2016-02-12T00:00:00Z",
                    "2016-02-13T00:00:00Z",
                    "2016-02-14T00:00:00Z",
                    "2016-02-15T00:00:00Z",
                    "2016-02-16T00:00:00Z",
                    "2016-02-17T00:00:00Z",
                    "2016-02-18T00:00:00Z",
                    "2016-02-19T00:00:00Z",
                    "2016-02-20T00:00:00Z",
                    "2016-02-21T00:00:00Z",
                    "2016-02-22T00:00:00Z",
                    "2016-02-23T00:00:00Z",
                    "2016-02-24T00:00:00Z",
                    "2016-02-25T00:00:00Z",
                    "2016-02-26T00:00:00Z",
                    "2016-02-27T00:00:00Z",
                    "2016-02-28T00:00:00Z",
                    "2016-02-29T00:00:00Z",
                    "2016-03-01T00:00:00Z",
                    "2016-03-02T00:00:00Z",
                    "2016-03-03T00:00:00Z",
                    "2016-03-04T00:00:00Z",
                    "2016-03-05T00:00:00Z",
                    "2016-03-06T00:00:00Z",
                    "2016-03-07T00:00:00Z",
                    "2016-03-08T00:00:00Z",
                    "2016-03-09T00:00:00Z",
                    "2016-03-10T00:00:00Z",
                    "2016-03-11T00:00:00Z",
                    "2016-03-12T00:00:00Z",
                    "2016-03-13T00:00:00Z",
                    "2016-03-14T00:00:00Z",
                    "2016-03-15T00:00:00Z",
                    "2016-03-16T00:00:00Z",
                    "2016-03-17T00:00:00Z",
                    "2016-03-18T00:00:00Z",
                    "2016-03-19T00:00:00Z",
                    "2016-03-20T00:00:00Z",
                    "2016-03-21T00:00:00Z",
                    "2016-03-22T00:00:00Z",
                    "2016-03-23T00:00:00Z",
                    "2016-03-24T00:00:00Z",
                    "2016-03-25T00:00:00Z",
                    "2016-03-26T00:00:00Z",
                    "2016-03-27T00:00:00Z",
                    "2016-03-28T00:00:00Z",
                    "2016-03-29T00:00:00Z",
                    "2016-03-30T00:00:00Z",
                    "2016-03-31T00:00:00Z",
                    "2016-04-01T00:00:00Z",
                    "2016-04-02T00:00:00Z",
                    "2016-04-03T00:00:00Z",
                    "2016-04-04T00:00:00Z",
                    "2016-04-05T00:00:00Z",
                    "2016-04-06T00:00:00Z",
                    "2016-04-07T00:00:00Z",
                    "2016-04-08T00:00:00Z",
                    "2016-04-09T00:00:00Z",
                    "2016-04-10T00:00:00Z",
                    "2016-04-11T00:00:00Z",
                    "2016-04-12T00:00:00Z",
                    "2016-04-13T00:00:00Z",
                    "2016-04-14T00:00:00Z",
                    "2016-04-15T00:00:00Z",
                    "2016-04-16T00:00:00Z",
                    "2016-04-17T00:00:00Z",
                    "2016-04-18T00:00:00Z",
                    "2016-04-19T00:00:00Z",
                    "2016-04-20T00:00:00Z",
                    "2016-04-21T00:00:00Z",
                    "2016-04-22T00:00:00Z",
                    "2016-04-23T00:00:00Z",
                    "2016-04-24T00:00:00Z",
                    "2016-04-25T00:00:00Z",
                    "2016-04-26T00:00:00Z",
                    "2016-04-27T00:00:00Z",
                    "2016-04-28T00:00:00Z",
                    "2016-04-29T00:00:00Z"
                  ],
                  "xaxis": "x",
                  "y": [
                    86.33634920634923,
                    89.5053298611111,
                    75.68483796296297,
                    86.19966435185182,
                    88.42369791666664,
                    95.6118692129629,
                    94.71396026234567,
                    89.63927854938275,
                    86.0845502645503,
                    92.75697833994707,
                    94.30287615740737,
                    95.20325810185187,
                    99.89618055555532,
                    99.89999999999976,
                    93.66799768518516,
                    93.01094328703694,
                    91.19809606481472,
                    94.94577546296291,
                    88.96635995370369,
                    95.85675925925912,
                    99.6378935185183,
                    88.16545717592595,
                    98.83630787037029,
                    86.10492476851852,
                    93.69042824074076,
                    94.90079861111111,
                    77.66429398148146,
                    70.57586226851852,
                    77.37922453703698,
                    86.10104166666656,
                    92.79901620370379,
                    92.01013888888883,
                    88.36348379629626,
                    88.20833333333336,
                    90.89013310185183,
                    75.02222056878308,
                    72.32754802489177,
                    75.78085292658733,
                    71.66291746582891,
                    77.10618634259255,
                    89.53829282407406,
                    88.1214560185185,
                    83.62536607142856,
                    87.10489583333332,
                    83.88141087962963,
                    78.23733796296294,
                    64.8969039351852,
                    50.18574074074074,
                    44.50061921296296,
                    51.19427083333337,
                    78.17746527777774,
                    68.07689236111108,
                    74.56283369157848,
                    76.49305335097003,
                    69.62597222222219,
                    76.20894675925923,
                    76.78323495370374,
                    78.70579282407408,
                    52.682841435185175,
                    44.18685763888889,
                    50.82009837962961,
                    50.16646990740744,
                    50.13814236111111,
                    47.20183555295012,
                    45.172980324074075,
                    40.86611111111111,
                    37.60141203703704,
                    60.69603587962964,
                    44.82449652777776,
                    43.90854745370368,
                    45.42900462962962,
                    43.34385416666665,
                    53.56662037037037,
                    44.94387152777782,
                    63.25836640211641,
                    52.28674474879884,
                    50.4294328703704,
                    43.63298358286594,
                    40.25579644756684,
                    35.04874421296297,
                    61.98074652777776,
                    51.718420138888874,
                    40.63918402777776,
                    38.82440972222223,
                    37.67064814814815,
                    36.40328564413978,
                    40.6803420138889,
                    31.369421388989096,
                    34.12903637566137,
                    31.4113777281746,
                    35.405283564814816,
                    19.3386574074074,
                    31.056886574074074,
                    43.533421130952384,
                    35.06662778328921,
                    39.741223765432125,
                    39.7915162037037,
                    38.523709490740714,
                    25.890937499999993,
                    20.74333912037038,
                    20.260943287037037,
                    11.329438657407415,
                    10.717170138888887,
                    25.391833333333324,
                    41.4202662037037,
                    53.67975115740743,
                    47.44824652777778,
                    45.25845884351218,
                    31.978379629629632,
                    33.2711784297052
                  ],
                  "yaxis": "y"
                },
                {
                  "mode": "lines",
                  "name": "mean_T9",
                  "type": "scatter",
                  "x": [
                    "2016-01-11T00:00:00Z",
                    "2016-01-12T00:00:00Z",
                    "2016-01-13T00:00:00Z",
                    "2016-01-14T00:00:00Z",
                    "2016-01-15T00:00:00Z",
                    "2016-01-16T00:00:00Z",
                    "2016-01-17T00:00:00Z",
                    "2016-01-18T00:00:00Z",
                    "2016-01-19T00:00:00Z",
                    "2016-01-20T00:00:00Z",
                    "2016-01-21T00:00:00Z",
                    "2016-01-22T00:00:00Z",
                    "2016-01-23T00:00:00Z",
                    "2016-01-24T00:00:00Z",
                    "2016-01-25T00:00:00Z",
                    "2016-01-26T00:00:00Z",
                    "2016-01-27T00:00:00Z",
                    "2016-01-28T00:00:00Z",
                    "2016-01-29T00:00:00Z",
                    "2016-01-30T00:00:00Z",
                    "2016-01-31T00:00:00Z",
                    "2016-02-01T00:00:00Z",
                    "2016-02-02T00:00:00Z",
                    "2016-02-03T00:00:00Z",
                    "2016-02-04T00:00:00Z",
                    "2016-02-05T00:00:00Z",
                    "2016-02-06T00:00:00Z",
                    "2016-02-07T00:00:00Z",
                    "2016-02-08T00:00:00Z",
                    "2016-02-09T00:00:00Z",
                    "2016-02-10T00:00:00Z",
                    "2016-02-11T00:00:00Z",
                    "2016-02-12T00:00:00Z",
                    "2016-02-13T00:00:00Z",
                    "2016-02-14T00:00:00Z",
                    "2016-02-15T00:00:00Z",
                    "2016-02-16T00:00:00Z",
                    "2016-02-17T00:00:00Z",
                    "2016-02-18T00:00:00Z",
                    "2016-02-19T00:00:00Z",
                    "2016-02-20T00:00:00Z",
                    "2016-02-21T00:00:00Z",
                    "2016-02-22T00:00:00Z",
                    "2016-02-23T00:00:00Z",
                    "2016-02-24T00:00:00Z",
                    "2016-02-25T00:00:00Z",
                    "2016-02-26T00:00:00Z",
                    "2016-02-27T00:00:00Z",
                    "2016-02-28T00:00:00Z",
                    "2016-02-29T00:00:00Z",
                    "2016-03-01T00:00:00Z",
                    "2016-03-02T00:00:00Z",
                    "2016-03-03T00:00:00Z",
                    "2016-03-04T00:00:00Z",
                    "2016-03-05T00:00:00Z",
                    "2016-03-06T00:00:00Z",
                    "2016-03-07T00:00:00Z",
                    "2016-03-08T00:00:00Z",
                    "2016-03-09T00:00:00Z",
                    "2016-03-10T00:00:00Z",
                    "2016-03-11T00:00:00Z",
                    "2016-03-12T00:00:00Z",
                    "2016-03-13T00:00:00Z",
                    "2016-03-14T00:00:00Z",
                    "2016-03-15T00:00:00Z",
                    "2016-03-16T00:00:00Z",
                    "2016-03-17T00:00:00Z",
                    "2016-03-18T00:00:00Z",
                    "2016-03-19T00:00:00Z",
                    "2016-03-20T00:00:00Z",
                    "2016-03-21T00:00:00Z",
                    "2016-03-22T00:00:00Z",
                    "2016-03-23T00:00:00Z",
                    "2016-03-24T00:00:00Z",
                    "2016-03-25T00:00:00Z",
                    "2016-03-26T00:00:00Z",
                    "2016-03-27T00:00:00Z",
                    "2016-03-28T00:00:00Z",
                    "2016-03-29T00:00:00Z",
                    "2016-03-30T00:00:00Z",
                    "2016-03-31T00:00:00Z",
                    "2016-04-01T00:00:00Z",
                    "2016-04-02T00:00:00Z",
                    "2016-04-03T00:00:00Z",
                    "2016-04-04T00:00:00Z",
                    "2016-04-05T00:00:00Z",
                    "2016-04-06T00:00:00Z",
                    "2016-04-07T00:00:00Z",
                    "2016-04-08T00:00:00Z",
                    "2016-04-09T00:00:00Z",
                    "2016-04-10T00:00:00Z",
                    "2016-04-11T00:00:00Z",
                    "2016-04-12T00:00:00Z",
                    "2016-04-13T00:00:00Z",
                    "2016-04-14T00:00:00Z",
                    "2016-04-15T00:00:00Z",
                    "2016-04-16T00:00:00Z",
                    "2016-04-17T00:00:00Z",
                    "2016-04-18T00:00:00Z",
                    "2016-04-19T00:00:00Z",
                    "2016-04-20T00:00:00Z",
                    "2016-04-21T00:00:00Z",
                    "2016-04-22T00:00:00Z",
                    "2016-04-23T00:00:00Z",
                    "2016-04-24T00:00:00Z",
                    "2016-04-25T00:00:00Z",
                    "2016-04-26T00:00:00Z",
                    "2016-04-27T00:00:00Z",
                    "2016-04-28T00:00:00Z",
                    "2016-04-29T00:00:00Z"
                  ],
                  "xaxis": "x",
                  "y": [
                    16.91817460317459,
                    17.0328472222222,
                    16.953576388888894,
                    16.884814814814813,
                    17.34569444444442,
                    17.89630787037036,
                    17.910133101851827,
                    17.288240740740733,
                    16.689560185185172,
                    15.968339120370366,
                    15.876846064814812,
                    15.785167824074051,
                    15.097216435185187,
                    15.63640046296296,
                    16.746134259259236,
                    17.1185648148148,
                    17.119351851851835,
                    16.94525462962961,
                    16.324062499999986,
                    16.366614583333345,
                    16.826493055555527,
                    17.68075810185185,
                    18.185480324074064,
                    18.33435185185182,
                    18.324571759259253,
                    18.54715277777773,
                    18.87043981481483,
                    19.122905092592582,
                    18.964548611111084,
                    19.003622685185178,
                    19.045763888888878,
                    18.73799768518517,
                    18.664942129629623,
                    18.28467592592592,
                    17.936840277777772,
                    17.95232060185185,
                    18.073078703703683,
                    18.033078703703694,
                    17.688016534391515,
                    17.648425099206353,
                    17.715775462962952,
                    18.26648148148148,
                    18.633106150793648,
                    18.470034226190457,
                    18.2129603174603,
                    18.095980489417972,
                    17.879710648148137,
                    17.898067129629638,
                    18.179016203703682,
                    18.26481481481481,
                    18.057615740740736,
                    18.22194444444445,
                    18.410953786375643,
                    18.43770171957672,
                    18.272557870370363,
                    17.874918981481464,
                    17.622997685185172,
                    17.57046296296296,
                    17.533159722222237,
                    17.77097222222221,
                    18.346203703703697,
                    18.726099537037026,
                    19.16218749999998,
                    19.459490740740723,
                    19.572887731481433,
                    19.63009259259258,
                    19.807291666666643,
                    19.68143518518515,
                    19.503530092592577,
                    19.44921296296295,
                    19.47343171296293,
                    19.582627314814793,
                    19.653616898148115,
                    19.396250000000006,
                    19.548478009259256,
                    19.86327546296295,
                    20.17540509259258,
                    20.37780092592592,
                    20.49671296296295,
                    20.375538194444427,
                    20.129629629629605,
                    20.264953703703704,
                    19.721417824074038,
                    19.9554398148148,
                    20.597083333333316,
                    20.86511574074075,
                    20.796400462962943,
                    20.706805555555533,
                    20.572702546296274,
                    20.34782407407404,
                    20.67213541666664,
                    21.00016203703702,
                    21.140011574074034,
                    20.625989583333304,
                    20.619722222222176,
                    20.824085648148127,
                    20.992361111111062,
                    20.91758680555552,
                    20.574253472222193,
                    20.19597800925923,
                    20.136035879629585,
                    20.216249999999956,
                    20.434930555555532,
                    20.663773148148124,
                    20.43622685185184,
                    19.867847222222224,
                    19.517297453703677,
                    19.210769675925917,
                    18.88353009259256,
                    18.76178571428571
                  ],
                  "yaxis": "y2"
                }
              ],
              "layout": {
                "showlegend": true,
                "template": {
                  "data": {
                    "bar": [
                      {
                        "error_x": {
                          "color": "#2a3f5f"
                        },
                        "error_y": {
                          "color": "#2a3f5f"
                        },
                        "marker": {
                          "line": {
                            "color": "#E5ECF6",
                            "width": 0.5
                          }
                        },
                        "type": "bar"
                      }
                    ],
                    "barpolar": [
                      {
                        "marker": {
                          "line": {
                            "color": "#E5ECF6",
                            "width": 0.5
                          }
                        },
                        "type": "barpolar"
                      }
                    ],
                    "carpet": [
                      {
                        "aaxis": {
                          "endlinecolor": "#2a3f5f",
                          "gridcolor": "white",
                          "linecolor": "white",
                          "minorgridcolor": "white",
                          "startlinecolor": "#2a3f5f"
                        },
                        "baxis": {
                          "endlinecolor": "#2a3f5f",
                          "gridcolor": "white",
                          "linecolor": "white",
                          "minorgridcolor": "white",
                          "startlinecolor": "#2a3f5f"
                        },
                        "type": "carpet"
                      }
                    ],
                    "choropleth": [
                      {
                        "colorbar": {
                          "outlinewidth": 0,
                          "ticks": ""
                        },
                        "type": "choropleth"
                      }
                    ],
                    "contour": [
                      {
                        "colorbar": {
                          "outlinewidth": 0,
                          "ticks": ""
                        },
                        "colorscale": [
                          [
                            0,
                            "#0d0887"
                          ],
                          [
                            0.1111111111111111,
                            "#46039f"
                          ],
                          [
                            0.2222222222222222,
                            "#7201a8"
                          ],
                          [
                            0.3333333333333333,
                            "#9c179e"
                          ],
                          [
                            0.4444444444444444,
                            "#bd3786"
                          ],
                          [
                            0.5555555555555556,
                            "#d8576b"
                          ],
                          [
                            0.6666666666666666,
                            "#ed7953"
                          ],
                          [
                            0.7777777777777778,
                            "#fb9f3a"
                          ],
                          [
                            0.8888888888888888,
                            "#fdca26"
                          ],
                          [
                            1,
                            "#f0f921"
                          ]
                        ],
                        "type": "contour"
                      }
                    ],
                    "contourcarpet": [
                      {
                        "colorbar": {
                          "outlinewidth": 0,
                          "ticks": ""
                        },
                        "type": "contourcarpet"
                      }
                    ],
                    "heatmap": [
                      {
                        "colorbar": {
                          "outlinewidth": 0,
                          "ticks": ""
                        },
                        "colorscale": [
                          [
                            0,
                            "#0d0887"
                          ],
                          [
                            0.1111111111111111,
                            "#46039f"
                          ],
                          [
                            0.2222222222222222,
                            "#7201a8"
                          ],
                          [
                            0.3333333333333333,
                            "#9c179e"
                          ],
                          [
                            0.4444444444444444,
                            "#bd3786"
                          ],
                          [
                            0.5555555555555556,
                            "#d8576b"
                          ],
                          [
                            0.6666666666666666,
                            "#ed7953"
                          ],
                          [
                            0.7777777777777778,
                            "#fb9f3a"
                          ],
                          [
                            0.8888888888888888,
                            "#fdca26"
                          ],
                          [
                            1,
                            "#f0f921"
                          ]
                        ],
                        "type": "heatmap"
                      }
                    ],
                    "heatmapgl": [
                      {
                        "colorbar": {
                          "outlinewidth": 0,
                          "ticks": ""
                        },
                        "colorscale": [
                          [
                            0,
                            "#0d0887"
                          ],
                          [
                            0.1111111111111111,
                            "#46039f"
                          ],
                          [
                            0.2222222222222222,
                            "#7201a8"
                          ],
                          [
                            0.3333333333333333,
                            "#9c179e"
                          ],
                          [
                            0.4444444444444444,
                            "#bd3786"
                          ],
                          [
                            0.5555555555555556,
                            "#d8576b"
                          ],
                          [
                            0.6666666666666666,
                            "#ed7953"
                          ],
                          [
                            0.7777777777777778,
                            "#fb9f3a"
                          ],
                          [
                            0.8888888888888888,
                            "#fdca26"
                          ],
                          [
                            1,
                            "#f0f921"
                          ]
                        ],
                        "type": "heatmapgl"
                      }
                    ],
                    "histogram": [
                      {
                        "marker": {
                          "colorbar": {
                            "outlinewidth": 0,
                            "ticks": ""
                          }
                        },
                        "type": "histogram"
                      }
                    ],
                    "histogram2d": [
                      {
                        "colorbar": {
                          "outlinewidth": 0,
                          "ticks": ""
                        },
                        "colorscale": [
                          [
                            0,
                            "#0d0887"
                          ],
                          [
                            0.1111111111111111,
                            "#46039f"
                          ],
                          [
                            0.2222222222222222,
                            "#7201a8"
                          ],
                          [
                            0.3333333333333333,
                            "#9c179e"
                          ],
                          [
                            0.4444444444444444,
                            "#bd3786"
                          ],
                          [
                            0.5555555555555556,
                            "#d8576b"
                          ],
                          [
                            0.6666666666666666,
                            "#ed7953"
                          ],
                          [
                            0.7777777777777778,
                            "#fb9f3a"
                          ],
                          [
                            0.8888888888888888,
                            "#fdca26"
                          ],
                          [
                            1,
                            "#f0f921"
                          ]
                        ],
                        "type": "histogram2d"
                      }
                    ],
                    "histogram2dcontour": [
                      {
                        "colorbar": {
                          "outlinewidth": 0,
                          "ticks": ""
                        },
                        "colorscale": [
                          [
                            0,
                            "#0d0887"
                          ],
                          [
                            0.1111111111111111,
                            "#46039f"
                          ],
                          [
                            0.2222222222222222,
                            "#7201a8"
                          ],
                          [
                            0.3333333333333333,
                            "#9c179e"
                          ],
                          [
                            0.4444444444444444,
                            "#bd3786"
                          ],
                          [
                            0.5555555555555556,
                            "#d8576b"
                          ],
                          [
                            0.6666666666666666,
                            "#ed7953"
                          ],
                          [
                            0.7777777777777778,
                            "#fb9f3a"
                          ],
                          [
                            0.8888888888888888,
                            "#fdca26"
                          ],
                          [
                            1,
                            "#f0f921"
                          ]
                        ],
                        "type": "histogram2dcontour"
                      }
                    ],
                    "mesh3d": [
                      {
                        "colorbar": {
                          "outlinewidth": 0,
                          "ticks": ""
                        },
                        "type": "mesh3d"
                      }
                    ],
                    "parcoords": [
                      {
                        "line": {
                          "colorbar": {
                            "outlinewidth": 0,
                            "ticks": ""
                          }
                        },
                        "type": "parcoords"
                      }
                    ],
                    "pie": [
                      {
                        "automargin": true,
                        "type": "pie"
                      }
                    ],
                    "scatter": [
                      {
                        "marker": {
                          "colorbar": {
                            "outlinewidth": 0,
                            "ticks": ""
                          }
                        },
                        "type": "scatter"
                      }
                    ],
                    "scatter3d": [
                      {
                        "line": {
                          "colorbar": {
                            "outlinewidth": 0,
                            "ticks": ""
                          }
                        },
                        "marker": {
                          "colorbar": {
                            "outlinewidth": 0,
                            "ticks": ""
                          }
                        },
                        "type": "scatter3d"
                      }
                    ],
                    "scattercarpet": [
                      {
                        "marker": {
                          "colorbar": {
                            "outlinewidth": 0,
                            "ticks": ""
                          }
                        },
                        "type": "scattercarpet"
                      }
                    ],
                    "scattergeo": [
                      {
                        "marker": {
                          "colorbar": {
                            "outlinewidth": 0,
                            "ticks": ""
                          }
                        },
                        "type": "scattergeo"
                      }
                    ],
                    "scattergl": [
                      {
                        "marker": {
                          "colorbar": {
                            "outlinewidth": 0,
                            "ticks": ""
                          }
                        },
                        "type": "scattergl"
                      }
                    ],
                    "scattermapbox": [
                      {
                        "marker": {
                          "colorbar": {
                            "outlinewidth": 0,
                            "ticks": ""
                          }
                        },
                        "type": "scattermapbox"
                      }
                    ],
                    "scatterpolar": [
                      {
                        "marker": {
                          "colorbar": {
                            "outlinewidth": 0,
                            "ticks": ""
                          }
                        },
                        "type": "scatterpolar"
                      }
                    ],
                    "scatterpolargl": [
                      {
                        "marker": {
                          "colorbar": {
                            "outlinewidth": 0,
                            "ticks": ""
                          }
                        },
                        "type": "scatterpolargl"
                      }
                    ],
                    "scatterternary": [
                      {
                        "marker": {
                          "colorbar": {
                            "outlinewidth": 0,
                            "ticks": ""
                          }
                        },
                        "type": "scatterternary"
                      }
                    ],
                    "surface": [
                      {
                        "colorbar": {
                          "outlinewidth": 0,
                          "ticks": ""
                        },
                        "colorscale": [
                          [
                            0,
                            "#0d0887"
                          ],
                          [
                            0.1111111111111111,
                            "#46039f"
                          ],
                          [
                            0.2222222222222222,
                            "#7201a8"
                          ],
                          [
                            0.3333333333333333,
                            "#9c179e"
                          ],
                          [
                            0.4444444444444444,
                            "#bd3786"
                          ],
                          [
                            0.5555555555555556,
                            "#d8576b"
                          ],
                          [
                            0.6666666666666666,
                            "#ed7953"
                          ],
                          [
                            0.7777777777777778,
                            "#fb9f3a"
                          ],
                          [
                            0.8888888888888888,
                            "#fdca26"
                          ],
                          [
                            1,
                            "#f0f921"
                          ]
                        ],
                        "type": "surface"
                      }
                    ],
                    "table": [
                      {
                        "cells": {
                          "fill": {
                            "color": "#EBF0F8"
                          },
                          "line": {
                            "color": "white"
                          }
                        },
                        "header": {
                          "fill": {
                            "color": "#C8D4E3"
                          },
                          "line": {
                            "color": "white"
                          }
                        },
                        "type": "table"
                      }
                    ]
                  },
                  "layout": {
                    "annotationdefaults": {
                      "arrowcolor": "#2a3f5f",
                      "arrowhead": 0,
                      "arrowwidth": 1
                    },
                    "autotypenumbers": "strict",
                    "coloraxis": {
                      "colorbar": {
                        "outlinewidth": 0,
                        "ticks": ""
                      }
                    },
                    "colorscale": {
                      "diverging": [
                        [
                          0,
                          "#8e0152"
                        ],
                        [
                          0.1,
                          "#c51b7d"
                        ],
                        [
                          0.2,
                          "#de77ae"
                        ],
                        [
                          0.3,
                          "#f1b6da"
                        ],
                        [
                          0.4,
                          "#fde0ef"
                        ],
                        [
                          0.5,
                          "#f7f7f7"
                        ],
                        [
                          0.6,
                          "#e6f5d0"
                        ],
                        [
                          0.7,
                          "#b8e186"
                        ],
                        [
                          0.8,
                          "#7fbc41"
                        ],
                        [
                          0.9,
                          "#4d9221"
                        ],
                        [
                          1,
                          "#276419"
                        ]
                      ],
                      "sequential": [
                        [
                          0,
                          "#0d0887"
                        ],
                        [
                          0.1111111111111111,
                          "#46039f"
                        ],
                        [
                          0.2222222222222222,
                          "#7201a8"
                        ],
                        [
                          0.3333333333333333,
                          "#9c179e"
                        ],
                        [
                          0.4444444444444444,
                          "#bd3786"
                        ],
                        [
                          0.5555555555555556,
                          "#d8576b"
                        ],
                        [
                          0.6666666666666666,
                          "#ed7953"
                        ],
                        [
                          0.7777777777777778,
                          "#fb9f3a"
                        ],
                        [
                          0.8888888888888888,
                          "#fdca26"
                        ],
                        [
                          1,
                          "#f0f921"
                        ]
                      ],
                      "sequentialminus": [
                        [
                          0,
                          "#0d0887"
                        ],
                        [
                          0.1111111111111111,
                          "#46039f"
                        ],
                        [
                          0.2222222222222222,
                          "#7201a8"
                        ],
                        [
                          0.3333333333333333,
                          "#9c179e"
                        ],
                        [
                          0.4444444444444444,
                          "#bd3786"
                        ],
                        [
                          0.5555555555555556,
                          "#d8576b"
                        ],
                        [
                          0.6666666666666666,
                          "#ed7953"
                        ],
                        [
                          0.7777777777777778,
                          "#fb9f3a"
                        ],
                        [
                          0.8888888888888888,
                          "#fdca26"
                        ],
                        [
                          1,
                          "#f0f921"
                        ]
                      ]
                    },
                    "colorway": [
                      "#636efa",
                      "#EF553B",
                      "#00cc96",
                      "#ab63fa",
                      "#FFA15A",
                      "#19d3f3",
                      "#FF6692",
                      "#B6E880",
                      "#FF97FF",
                      "#FECB52"
                    ],
                    "font": {
                      "color": "#2a3f5f"
                    },
                    "geo": {
                      "bgcolor": "white",
                      "lakecolor": "white",
                      "landcolor": "#E5ECF6",
                      "showlakes": true,
                      "showland": true,
                      "subunitcolor": "white"
                    },
                    "hoverlabel": {
                      "align": "left"
                    },
                    "hovermode": "closest",
                    "mapbox": {
                      "style": "light"
                    },
                    "paper_bgcolor": "white",
                    "plot_bgcolor": "#E5ECF6",
                    "polar": {
                      "angularaxis": {
                        "gridcolor": "white",
                        "linecolor": "white",
                        "ticks": ""
                      },
                      "bgcolor": "#E5ECF6",
                      "radialaxis": {
                        "gridcolor": "white",
                        "linecolor": "white",
                        "ticks": ""
                      }
                    },
                    "scene": {
                      "xaxis": {
                        "backgroundcolor": "#E5ECF6",
                        "gridcolor": "white",
                        "gridwidth": 2,
                        "linecolor": "white",
                        "showbackground": true,
                        "ticks": "",
                        "zerolinecolor": "white"
                      },
                      "yaxis": {
                        "backgroundcolor": "#E5ECF6",
                        "gridcolor": "white",
                        "gridwidth": 2,
                        "linecolor": "white",
                        "showbackground": true,
                        "ticks": "",
                        "zerolinecolor": "white"
                      },
                      "zaxis": {
                        "backgroundcolor": "#E5ECF6",
                        "gridcolor": "white",
                        "gridwidth": 2,
                        "linecolor": "white",
                        "showbackground": true,
                        "ticks": "",
                        "zerolinecolor": "white"
                      }
                    },
                    "shapedefaults": {
                      "line": {
                        "color": "#2a3f5f"
                      }
                    },
                    "ternary": {
                      "aaxis": {
                        "gridcolor": "white",
                        "linecolor": "white",
                        "ticks": ""
                      },
                      "baxis": {
                        "gridcolor": "white",
                        "linecolor": "white",
                        "ticks": ""
                      },
                      "bgcolor": "#E5ECF6",
                      "caxis": {
                        "gridcolor": "white",
                        "linecolor": "white",
                        "ticks": ""
                      }
                    },
                    "title": {
                      "x": 0.05
                    },
                    "xaxis": {
                      "automargin": true,
                      "gridcolor": "white",
                      "linecolor": "white",
                      "ticks": "",
                      "title": {
                        "standoff": 15
                      },
                      "zerolinecolor": "white",
                      "zerolinewidth": 2
                    },
                    "yaxis": {
                      "automargin": true,
                      "gridcolor": "white",
                      "linecolor": "white",
                      "ticks": "",
                      "title": {
                        "standoff": 15
                      },
                      "zerolinecolor": "white",
                      "zerolinewidth": 2
                    }
                  }
                },
                "xaxis": {
                  "anchor": "y",
                  "domain": [
                    0,
                    0.94
                  ]
                },
                "yaxis": {
                  "anchor": "x",
                  "domain": [
                    0,
                    1
                  ]
                },
                "yaxis2": {
                  "anchor": "x",
                  "overlaying": "y",
                  "side": "right"
                }
              }
            }
          },
          "metadata": {
            "tags": []
          }
        }
      ]
    }
  ]
}