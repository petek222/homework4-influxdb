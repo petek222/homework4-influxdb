{
  "nbformat": 4,
  "nbformat_minor": 0,
  "metadata": {
    "colab": {
      "name": "InfluxDB-tweet.ipynb",
      "provenance": [],
      "collapsed_sections": []
    },
    "kernelspec": {
      "name": "python3",
      "display_name": "Python 3"
    }
  },
  "cells": [
    {
      "cell_type": "code",
      "metadata": {
        "colab": {
          "base_uri": "https://localhost:8080/"
        },
        "id": "WqcXu_pFxJnO",
        "outputId": "2ce8445f-713a-4564-b916-acaaa89f015a"
      },
      "source": [
        "!pip install influxdb"
      ],
      "execution_count": null,
      "outputs": [
        {
          "output_type": "stream",
          "text": [
            "Requirement already satisfied: influxdb in /usr/local/lib/python3.6/dist-packages (5.3.1)\n",
            "Requirement already satisfied: msgpack in /usr/local/lib/python3.6/dist-packages (from influxdb) (1.0.2)\n",
            "Requirement already satisfied: pytz in /usr/local/lib/python3.6/dist-packages (from influxdb) (2018.9)\n",
            "Requirement already satisfied: python-dateutil>=2.6.0 in /usr/local/lib/python3.6/dist-packages (from influxdb) (2.8.1)\n",
            "Requirement already satisfied: six>=1.10.0 in /usr/local/lib/python3.6/dist-packages (from influxdb) (1.15.0)\n",
            "Requirement already satisfied: requests>=2.17.0 in /usr/local/lib/python3.6/dist-packages (from influxdb) (2.23.0)\n",
            "Requirement already satisfied: idna<3,>=2.5 in /usr/local/lib/python3.6/dist-packages (from requests>=2.17.0->influxdb) (2.10)\n",
            "Requirement already satisfied: chardet<4,>=3.0.2 in /usr/local/lib/python3.6/dist-packages (from requests>=2.17.0->influxdb) (3.0.4)\n",
            "Requirement already satisfied: urllib3!=1.25.0,!=1.25.1,<1.26,>=1.21.1 in /usr/local/lib/python3.6/dist-packages (from requests>=2.17.0->influxdb) (1.24.3)\n",
            "Requirement already satisfied: certifi>=2017.4.17 in /usr/local/lib/python3.6/dist-packages (from requests>=2.17.0->influxdb) (2020.12.5)\n"
          ],
          "name": "stdout"
        }
      ]
    },
    {
      "cell_type": "code",
      "metadata": {
        "id": "nl5XcJZpxVb1"
      },
      "source": [
        "from influxdb import InfluxDBClient\r\n",
        "import json\r\n",
        "import datetime"
      ],
      "execution_count": null,
      "outputs": []
    },
    {
      "cell_type": "code",
      "metadata": {
        "id": "Rx9Hztq0xcH3",
        "colab": {
          "base_uri": "https://localhost:8080/",
          "height": 160
        },
        "outputId": "4a400d8c-658a-47a9-8fb8-772b33552073"
      },
      "source": [
        "#connect to the influxDB instance\r\n",
        "\r\n",
        "client = InfluxDBClient(host='ec2-54-167-74-80.compute-1.amazonaws.com', port=8086, database=\"tweet\")\r\n"
      ],
      "execution_count": null,
      "outputs": [
        {
          "output_type": "execute_result",
          "data": {
            "application/vnd.google.colaboratory.intrinsic+json": {
              "type": "string"
            },
            "text/plain": [
              "'\\nfor line in lines:\\n  try:\\n      # Parse with: tweet = json.loads(line)\\n      tweet = json.loads(line)\\n      json_body = [\\n        {\\n            \"measurement\": \"tweet\",\\n            \"tags\": {\\n                \"user_name\": tweet[\\'user\\'][\\'name\\'],\\n                \"screen_name\":tweet[\\'user\\'][\\'screen_name\\'],\\n                \"screen_name\": tweet[\\'user\\'][\\'screen_name\\'],\\n                \"user_location\":tweet[\\'user\\'][\\'location\\'],\\n                \"place_type\": tweet[\\'place\\'][\\'place_type\\'],\\n                \"country\": tweet[\\'place\\'][\\'country\\']\\n             \\n            },\\n            \"time\":  tweet[\\'created_at\\'],\\n            \"fields\":  {\\n                \"text\": tweet[\\'text\\'],\\n                \"quote_count\": tweet[\\'quote_count\\'],\\n                \"contributors\": tweet[\\'contributors\\'],\\n                \"truncated\": tweet[\\'truncated\\'], \\n                \"reply_count\": tweet[\\'reply_count\\'], \\n                \"favorite_count\": tweet[\\'favorite_count\\'],\\n                \"source\": tweet[\\'source\\'],\\n                \"favorited\": tweet[\\'favorited\\'],\\n                \"followers_count\":tweet[\\'user\\'][\\'followers_count\\'],\\n                \"user description\":tweet[\\'user\\'][\\'description\\'],\\n                \"friends_count\":tweet[\\'user\\'][\\'friends_count\\']\\n                \\n            }\\n            \\n        }\\n      ]\\n\\n \\n      client.write_points(json_body)\\n\\n      \\n      \\n  except:\\n      # ignore tweets that error on load\\n      print(\"exception\")\\n      pass\\n\\n      '"
            ]
          },
          "metadata": {
            "tags": []
          },
          "execution_count": 3
        }
      ]
    },
    {
      "cell_type": "code",
      "metadata": {
        "id": "E_ecBEXud3Q3"
      },
      "source": [
        "#Q1: Count tweets "
      ],
      "execution_count": null,
      "outputs": []
    },
    {
      "cell_type": "code",
      "metadata": {
        "id": "m3WWSdrneCYP"
      },
      "source": [
        ""
      ],
      "execution_count": null,
      "outputs": []
    },
    {
      "cell_type": "code",
      "metadata": {
        "id": "8LenbMsvd3Uu"
      },
      "source": [
        "#Q2:Count the number of tweets of users who have no friends"
      ],
      "execution_count": null,
      "outputs": []
    },
    {
      "cell_type": "code",
      "metadata": {
        "id": "lc1SXylDeC_c"
      },
      "source": [
        ""
      ],
      "execution_count": null,
      "outputs": []
    },
    {
      "cell_type": "code",
      "metadata": {
        "id": "Y9ReM3V7d3Xv"
      },
      "source": [
        "#Q3: Show counts of tweet by Non American user called Jason"
      ],
      "execution_count": null,
      "outputs": []
    },
    {
      "cell_type": "code",
      "metadata": {
        "id": "nauVcXKseDvF"
      },
      "source": [
        ""
      ],
      "execution_count": null,
      "outputs": []
    }
  ]
}