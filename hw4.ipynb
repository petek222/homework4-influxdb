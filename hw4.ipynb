{
  "nbformat": 4,
  "nbformat_minor": 0,
  "metadata": {
    "colab": {
      "name": "InfluxDB-assignment.ipynb",
      "provenance": [],
      "collapsed_sections": [],
      "include_colab_link": true
    },
    "kernelspec": {
      "name": "python3",
      "display_name": "Python 3",
      "language": "python"
    }
  },
  "cells": [
    {
      "cell_type": "markdown",
      "metadata": {
        "id": "view-in-github",
        "colab_type": "text"
      },
      "source": [
        "<a href=\"https://colab.research.google.com/github/vu-topics-in-big-data-2021/homework4-influxdb/blob/main/hw4.ipynb\" target=\"_parent\"><img src=\"https://colab.research.google.com/assets/colab-badge.svg\" alt=\"Open In Colab\"/></a>"
      ]
    },
    {
      "cell_type": "code",
      "metadata": {
        "id": "u4jBqZnqy8qH"
      },
      "source": [
        "#install the required packages\n",
        "!pip3 install influxdb plotly pandas numpy matplotlib"
      ],
      "execution_count": null,
      "outputs": []
    },
    {
      "cell_type": "code",
      "metadata": {
        "id": "nl5XcJZpxVb1"
      },
      "source": [
        "from influxdb import InfluxDBClient\n",
        "import json\n",
        "import datetime\n",
        "from getpass import getpass\n",
        "import pandas as pd\n",
        "import numpy as np\n",
        "import seaborn as sns\n",
        "from matplotlib.pylab import rcParams\n",
        "import matplotlib.pyplot as plt\n",
        "from plotly.subplots import make_subplots\n",
        "import plotly.graph_objects as go\n",
        "\n",
        "# following commands are to set the plotly figures.\n",
        "\n",
        "%matplotlib inline\n",
        "\n",
        "sns.set(style='whitegrid', palette='muted')\n",
        "rcParams['figure.figsize'] = 14, 8"
      ],
      "execution_count": null,
      "outputs": []
    },
    {
      "cell_type": "code",
      "metadata": {
        "id": "Rx9Hztq0xcH3",
        "colab": {
          "base_uri": "https://localhost:8080/"
        },
        "outputId": "becb66e4-a8d5-42e9-dce5-ef36ea17d1de"
      },
      "source": [
        "#ensure client object is not null. this will only happen if the connection succeeded.\n",
        "passwd=getpass('Enter Password Here:')\n",
        "client = InfluxDBClient(host='replace with the public IP of your ec2 instance', username='admin', password='your db password', port=8086, database=\"energy\")"
      ],
      "execution_count": null,
      "outputs": [
        {
          "output_type": "stream",
          "text": [
            "Enter Password Here:··········\n"
          ],
          "name": "stdout"
        }
      ]
    },
    {
      "cell_type": "code",
      "metadata": {
        "id": "ymO16jZ-9zNs"
      },
      "source": [
        "# Assuming you have created the energy database through influxd CLI. \n",
        "# Now, test the connection status...\n",
        "print('existing databases:', client.get_list_database())\n",
        "\n",
        "# create an example database\n",
        "client.create_database('example')\n",
        "print('existing databases:', client.get_list_database())\n",
        "\n",
        "# delete the example database\n",
        "client.drop_database('example')\n",
        "print('existing databases:', client.get_list_database())\n",
        "\n",
        "# You should be able to see the following outputs after executing this cell:\n",
        "\n",
        "\"\"\"\n",
        "existing databases: [{'name': '_internal'}, {'name': 'energy'}]\n",
        "existing databases: [{'name': '_internal'}, {'name': 'energy'}, {'name': 'example'}]\n",
        "existing databases: [{'name': '_internal'}, {'name': 'energy'}]\n",
        "\"\"\""
      ],
      "execution_count": null,
      "outputs": []
    },
    {
      "cell_type": "markdown",
      "metadata": {
        "id": "uDAr2SsSy8qL"
      },
      "source": [
        "## An example of plotting synthetic data using plotly library.\n",
        "\n",
        "Plotly allows you to test and make simple figures.\n"
      ]
    },
    {
      "cell_type": "code",
      "metadata": {
        "colab": {
          "base_uri": "https://localhost:8080/",
          "height": 542
        },
        "id": "D__b7eW5y8qL",
        "outputId": "3c51f5f9-1fad-449b-aa2e-d95c4eb7a8b9"
      },
      "source": [
        "# define the time range\n",
        "begin = datetime.datetime(2021, 1, 1)\n",
        "end = datetime.datetime(2021, 1, 3, 23, 59, 59)\n",
        "step = datetime.timedelta(hours=1) # set sampling step as 1 hour\n",
        "\n",
        "# generate X and Y axises\n",
        "timesteps = []\n",
        "values = []\n",
        "while begin < end:\n",
        "    timesteps.append(begin.strftime('%Y-%m-%d %H:%M:%S'))\n",
        "    begin += step\n",
        "    values.append(np.random.randint(0, 100))\n",
        "\n",
        "# plot the figure\n",
        "fig = go.Figure()\n",
        "fig.add_trace(go.Scatter(x=timesteps, y=values, mode='lines', name='Synthetic Values'))\n",
        "fig.update_layout(showlegend=True)\n",
        "fig.show()"
      ],
      "execution_count": null,
      "outputs": [
        {
          "output_type": "display_data",
          "data": {
            "text/html": [
              "<html>\n",
              "<head><meta charset=\"utf-8\" /></head>\n",
              "<body>\n",
              "    <div>\n",
              "            <script src=\"https://cdnjs.cloudflare.com/ajax/libs/mathjax/2.7.5/MathJax.js?config=TeX-AMS-MML_SVG\"></script><script type=\"text/javascript\">if (window.MathJax) {MathJax.Hub.Config({SVG: {font: \"STIX-Web\"}});}</script>\n",
              "                <script type=\"text/javascript\">window.PlotlyConfig = {MathJaxConfig: 'local'};</script>\n",
              "        <script src=\"https://cdn.plot.ly/plotly-latest.min.js\"></script>    \n",
              "            <div id=\"b9119eb2-bf6c-4c69-a021-c08dab5aba22\" class=\"plotly-graph-div\" style=\"height:525px; width:100%;\"></div>\n",
              "            <script type=\"text/javascript\">\n",
              "                \n",
              "                    window.PLOTLYENV=window.PLOTLYENV || {};\n",
              "                    \n",
              "                if (document.getElementById(\"b9119eb2-bf6c-4c69-a021-c08dab5aba22\")) {\n",
              "                    Plotly.newPlot(\n",
              "                        'b9119eb2-bf6c-4c69-a021-c08dab5aba22',\n",
              "                        [{\"mode\": \"lines\", \"name\": \"Synthetic Values\", \"type\": \"scatter\", \"x\": [\"2021-01-01 00:00:00\", \"2021-01-01 01:00:00\", \"2021-01-01 02:00:00\", \"2021-01-01 03:00:00\", \"2021-01-01 04:00:00\", \"2021-01-01 05:00:00\", \"2021-01-01 06:00:00\", \"2021-01-01 07:00:00\", \"2021-01-01 08:00:00\", \"2021-01-01 09:00:00\", \"2021-01-01 10:00:00\", \"2021-01-01 11:00:00\", \"2021-01-01 12:00:00\", \"2021-01-01 13:00:00\", \"2021-01-01 14:00:00\", \"2021-01-01 15:00:00\", \"2021-01-01 16:00:00\", \"2021-01-01 17:00:00\", \"2021-01-01 18:00:00\", \"2021-01-01 19:00:00\", \"2021-01-01 20:00:00\", \"2021-01-01 21:00:00\", \"2021-01-01 22:00:00\", \"2021-01-01 23:00:00\", \"2021-01-02 00:00:00\", \"2021-01-02 01:00:00\", \"2021-01-02 02:00:00\", \"2021-01-02 03:00:00\", \"2021-01-02 04:00:00\", \"2021-01-02 05:00:00\", \"2021-01-02 06:00:00\", \"2021-01-02 07:00:00\", \"2021-01-02 08:00:00\", \"2021-01-02 09:00:00\", \"2021-01-02 10:00:00\", \"2021-01-02 11:00:00\", \"2021-01-02 12:00:00\", \"2021-01-02 13:00:00\", \"2021-01-02 14:00:00\", \"2021-01-02 15:00:00\", \"2021-01-02 16:00:00\", \"2021-01-02 17:00:00\", \"2021-01-02 18:00:00\", \"2021-01-02 19:00:00\", \"2021-01-02 20:00:00\", \"2021-01-02 21:00:00\", \"2021-01-02 22:00:00\", \"2021-01-02 23:00:00\", \"2021-01-03 00:00:00\", \"2021-01-03 01:00:00\", \"2021-01-03 02:00:00\", \"2021-01-03 03:00:00\", \"2021-01-03 04:00:00\", \"2021-01-03 05:00:00\", \"2021-01-03 06:00:00\", \"2021-01-03 07:00:00\", \"2021-01-03 08:00:00\", \"2021-01-03 09:00:00\", \"2021-01-03 10:00:00\", \"2021-01-03 11:00:00\", \"2021-01-03 12:00:00\", \"2021-01-03 13:00:00\", \"2021-01-03 14:00:00\", \"2021-01-03 15:00:00\", \"2021-01-03 16:00:00\", \"2021-01-03 17:00:00\", \"2021-01-03 18:00:00\", \"2021-01-03 19:00:00\", \"2021-01-03 20:00:00\", \"2021-01-03 21:00:00\", \"2021-01-03 22:00:00\", \"2021-01-03 23:00:00\"], \"y\": [84, 32, 48, 10, 76, 0, 4, 95, 24, 89, 43, 77, 22, 0, 97, 77, 69, 62, 42, 67, 41, 11, 48, 32, 7, 76, 74, 97, 10, 68, 39, 50, 62, 29, 35, 32, 16, 22, 47, 64, 29, 66, 31, 86, 42, 12, 6, 32, 60, 60, 12, 25, 81, 38, 99, 67, 62, 93, 86, 26, 16, 56, 39, 39, 35, 86, 65, 40, 95, 2, 97, 84]}],\n",
              "                        {\"showlegend\": true, \"template\": {\"data\": {\"bar\": [{\"error_x\": {\"color\": \"#2a3f5f\"}, \"error_y\": {\"color\": \"#2a3f5f\"}, \"marker\": {\"line\": {\"color\": \"#E5ECF6\", \"width\": 0.5}}, \"type\": \"bar\"}], \"barpolar\": [{\"marker\": {\"line\": {\"color\": \"#E5ECF6\", \"width\": 0.5}}, \"type\": \"barpolar\"}], \"carpet\": [{\"aaxis\": {\"endlinecolor\": \"#2a3f5f\", \"gridcolor\": \"white\", \"linecolor\": \"white\", \"minorgridcolor\": \"white\", \"startlinecolor\": \"#2a3f5f\"}, \"baxis\": {\"endlinecolor\": \"#2a3f5f\", \"gridcolor\": \"white\", \"linecolor\": \"white\", \"minorgridcolor\": \"white\", \"startlinecolor\": \"#2a3f5f\"}, \"type\": \"carpet\"}], \"choropleth\": [{\"colorbar\": {\"outlinewidth\": 0, \"ticks\": \"\"}, \"type\": \"choropleth\"}], \"contour\": [{\"colorbar\": {\"outlinewidth\": 0, \"ticks\": \"\"}, \"colorscale\": [[0.0, \"#0d0887\"], [0.1111111111111111, \"#46039f\"], [0.2222222222222222, \"#7201a8\"], [0.3333333333333333, \"#9c179e\"], [0.4444444444444444, \"#bd3786\"], [0.5555555555555556, \"#d8576b\"], [0.6666666666666666, \"#ed7953\"], [0.7777777777777778, \"#fb9f3a\"], [0.8888888888888888, \"#fdca26\"], [1.0, \"#f0f921\"]], \"type\": \"contour\"}], \"contourcarpet\": [{\"colorbar\": {\"outlinewidth\": 0, \"ticks\": \"\"}, \"type\": \"contourcarpet\"}], \"heatmap\": [{\"colorbar\": {\"outlinewidth\": 0, \"ticks\": \"\"}, \"colorscale\": [[0.0, \"#0d0887\"], [0.1111111111111111, \"#46039f\"], [0.2222222222222222, \"#7201a8\"], [0.3333333333333333, \"#9c179e\"], [0.4444444444444444, \"#bd3786\"], [0.5555555555555556, \"#d8576b\"], [0.6666666666666666, \"#ed7953\"], [0.7777777777777778, \"#fb9f3a\"], [0.8888888888888888, \"#fdca26\"], [1.0, \"#f0f921\"]], \"type\": \"heatmap\"}], \"heatmapgl\": [{\"colorbar\": {\"outlinewidth\": 0, \"ticks\": \"\"}, \"colorscale\": [[0.0, \"#0d0887\"], [0.1111111111111111, \"#46039f\"], [0.2222222222222222, \"#7201a8\"], [0.3333333333333333, \"#9c179e\"], [0.4444444444444444, \"#bd3786\"], [0.5555555555555556, \"#d8576b\"], [0.6666666666666666, \"#ed7953\"], [0.7777777777777778, \"#fb9f3a\"], [0.8888888888888888, \"#fdca26\"], [1.0, \"#f0f921\"]], \"type\": \"heatmapgl\"}], \"histogram\": [{\"marker\": {\"colorbar\": {\"outlinewidth\": 0, \"ticks\": \"\"}}, \"type\": \"histogram\"}], \"histogram2d\": [{\"colorbar\": {\"outlinewidth\": 0, \"ticks\": \"\"}, \"colorscale\": [[0.0, \"#0d0887\"], [0.1111111111111111, \"#46039f\"], [0.2222222222222222, \"#7201a8\"], [0.3333333333333333, \"#9c179e\"], [0.4444444444444444, \"#bd3786\"], [0.5555555555555556, \"#d8576b\"], [0.6666666666666666, \"#ed7953\"], [0.7777777777777778, \"#fb9f3a\"], [0.8888888888888888, \"#fdca26\"], [1.0, \"#f0f921\"]], \"type\": \"histogram2d\"}], \"histogram2dcontour\": [{\"colorbar\": {\"outlinewidth\": 0, \"ticks\": \"\"}, \"colorscale\": [[0.0, \"#0d0887\"], [0.1111111111111111, \"#46039f\"], [0.2222222222222222, \"#7201a8\"], [0.3333333333333333, \"#9c179e\"], [0.4444444444444444, \"#bd3786\"], [0.5555555555555556, \"#d8576b\"], [0.6666666666666666, \"#ed7953\"], [0.7777777777777778, \"#fb9f3a\"], [0.8888888888888888, \"#fdca26\"], [1.0, \"#f0f921\"]], \"type\": \"histogram2dcontour\"}], \"mesh3d\": [{\"colorbar\": {\"outlinewidth\": 0, \"ticks\": \"\"}, \"type\": \"mesh3d\"}], \"parcoords\": [{\"line\": {\"colorbar\": {\"outlinewidth\": 0, \"ticks\": \"\"}}, \"type\": \"parcoords\"}], \"pie\": [{\"automargin\": true, \"type\": \"pie\"}], \"scatter\": [{\"marker\": {\"colorbar\": {\"outlinewidth\": 0, \"ticks\": \"\"}}, \"type\": \"scatter\"}], \"scatter3d\": [{\"line\": {\"colorbar\": {\"outlinewidth\": 0, \"ticks\": \"\"}}, \"marker\": {\"colorbar\": {\"outlinewidth\": 0, \"ticks\": \"\"}}, \"type\": \"scatter3d\"}], \"scattercarpet\": [{\"marker\": {\"colorbar\": {\"outlinewidth\": 0, \"ticks\": \"\"}}, \"type\": \"scattercarpet\"}], \"scattergeo\": [{\"marker\": {\"colorbar\": {\"outlinewidth\": 0, \"ticks\": \"\"}}, \"type\": \"scattergeo\"}], \"scattergl\": [{\"marker\": {\"colorbar\": {\"outlinewidth\": 0, \"ticks\": \"\"}}, \"type\": \"scattergl\"}], \"scattermapbox\": [{\"marker\": {\"colorbar\": {\"outlinewidth\": 0, \"ticks\": \"\"}}, \"type\": \"scattermapbox\"}], \"scatterpolar\": [{\"marker\": {\"colorbar\": {\"outlinewidth\": 0, \"ticks\": \"\"}}, \"type\": \"scatterpolar\"}], \"scatterpolargl\": [{\"marker\": {\"colorbar\": {\"outlinewidth\": 0, \"ticks\": \"\"}}, \"type\": \"scatterpolargl\"}], \"scatterternary\": [{\"marker\": {\"colorbar\": {\"outlinewidth\": 0, \"ticks\": \"\"}}, \"type\": \"scatterternary\"}], \"surface\": [{\"colorbar\": {\"outlinewidth\": 0, \"ticks\": \"\"}, \"colorscale\": [[0.0, \"#0d0887\"], [0.1111111111111111, \"#46039f\"], [0.2222222222222222, \"#7201a8\"], [0.3333333333333333, \"#9c179e\"], [0.4444444444444444, \"#bd3786\"], [0.5555555555555556, \"#d8576b\"], [0.6666666666666666, \"#ed7953\"], [0.7777777777777778, \"#fb9f3a\"], [0.8888888888888888, \"#fdca26\"], [1.0, \"#f0f921\"]], \"type\": \"surface\"}], \"table\": [{\"cells\": {\"fill\": {\"color\": \"#EBF0F8\"}, \"line\": {\"color\": \"white\"}}, \"header\": {\"fill\": {\"color\": \"#C8D4E3\"}, \"line\": {\"color\": \"white\"}}, \"type\": \"table\"}]}, \"layout\": {\"annotationdefaults\": {\"arrowcolor\": \"#2a3f5f\", \"arrowhead\": 0, \"arrowwidth\": 1}, \"coloraxis\": {\"colorbar\": {\"outlinewidth\": 0, \"ticks\": \"\"}}, \"colorscale\": {\"diverging\": [[0, \"#8e0152\"], [0.1, \"#c51b7d\"], [0.2, \"#de77ae\"], [0.3, \"#f1b6da\"], [0.4, \"#fde0ef\"], [0.5, \"#f7f7f7\"], [0.6, \"#e6f5d0\"], [0.7, \"#b8e186\"], [0.8, \"#7fbc41\"], [0.9, \"#4d9221\"], [1, \"#276419\"]], \"sequential\": [[0.0, \"#0d0887\"], [0.1111111111111111, \"#46039f\"], [0.2222222222222222, \"#7201a8\"], [0.3333333333333333, \"#9c179e\"], [0.4444444444444444, \"#bd3786\"], [0.5555555555555556, \"#d8576b\"], [0.6666666666666666, \"#ed7953\"], [0.7777777777777778, \"#fb9f3a\"], [0.8888888888888888, \"#fdca26\"], [1.0, \"#f0f921\"]], \"sequentialminus\": [[0.0, \"#0d0887\"], [0.1111111111111111, \"#46039f\"], [0.2222222222222222, \"#7201a8\"], [0.3333333333333333, \"#9c179e\"], [0.4444444444444444, \"#bd3786\"], [0.5555555555555556, \"#d8576b\"], [0.6666666666666666, \"#ed7953\"], [0.7777777777777778, \"#fb9f3a\"], [0.8888888888888888, \"#fdca26\"], [1.0, \"#f0f921\"]]}, \"colorway\": [\"#636efa\", \"#EF553B\", \"#00cc96\", \"#ab63fa\", \"#FFA15A\", \"#19d3f3\", \"#FF6692\", \"#B6E880\", \"#FF97FF\", \"#FECB52\"], \"font\": {\"color\": \"#2a3f5f\"}, \"geo\": {\"bgcolor\": \"white\", \"lakecolor\": \"white\", \"landcolor\": \"#E5ECF6\", \"showlakes\": true, \"showland\": true, \"subunitcolor\": \"white\"}, \"hoverlabel\": {\"align\": \"left\"}, \"hovermode\": \"closest\", \"mapbox\": {\"style\": \"light\"}, \"paper_bgcolor\": \"white\", \"plot_bgcolor\": \"#E5ECF6\", \"polar\": {\"angularaxis\": {\"gridcolor\": \"white\", \"linecolor\": \"white\", \"ticks\": \"\"}, \"bgcolor\": \"#E5ECF6\", \"radialaxis\": {\"gridcolor\": \"white\", \"linecolor\": \"white\", \"ticks\": \"\"}}, \"scene\": {\"xaxis\": {\"backgroundcolor\": \"#E5ECF6\", \"gridcolor\": \"white\", \"gridwidth\": 2, \"linecolor\": \"white\", \"showbackground\": true, \"ticks\": \"\", \"zerolinecolor\": \"white\"}, \"yaxis\": {\"backgroundcolor\": \"#E5ECF6\", \"gridcolor\": \"white\", \"gridwidth\": 2, \"linecolor\": \"white\", \"showbackground\": true, \"ticks\": \"\", \"zerolinecolor\": \"white\"}, \"zaxis\": {\"backgroundcolor\": \"#E5ECF6\", \"gridcolor\": \"white\", \"gridwidth\": 2, \"linecolor\": \"white\", \"showbackground\": true, \"ticks\": \"\", \"zerolinecolor\": \"white\"}}, \"shapedefaults\": {\"line\": {\"color\": \"#2a3f5f\"}}, \"ternary\": {\"aaxis\": {\"gridcolor\": \"white\", \"linecolor\": \"white\", \"ticks\": \"\"}, \"baxis\": {\"gridcolor\": \"white\", \"linecolor\": \"white\", \"ticks\": \"\"}, \"bgcolor\": \"#E5ECF6\", \"caxis\": {\"gridcolor\": \"white\", \"linecolor\": \"white\", \"ticks\": \"\"}}, \"title\": {\"x\": 0.05}, \"xaxis\": {\"automargin\": true, \"gridcolor\": \"white\", \"linecolor\": \"white\", \"ticks\": \"\", \"title\": {\"standoff\": 15}, \"zerolinecolor\": \"white\", \"zerolinewidth\": 2}, \"yaxis\": {\"automargin\": true, \"gridcolor\": \"white\", \"linecolor\": \"white\", \"ticks\": \"\", \"title\": {\"standoff\": 15}, \"zerolinecolor\": \"white\", \"zerolinewidth\": 2}}}},\n",
              "                        {\"responsive\": true}\n",
              "                    ).then(function(){\n",
              "                            \n",
              "var gd = document.getElementById('b9119eb2-bf6c-4c69-a021-c08dab5aba22');\n",
              "var x = new MutationObserver(function (mutations, observer) {{\n",
              "        var display = window.getComputedStyle(gd).display;\n",
              "        if (!display || display === 'none') {{\n",
              "            console.log([gd, 'removed!']);\n",
              "            Plotly.purge(gd);\n",
              "            observer.disconnect();\n",
              "        }}\n",
              "}});\n",
              "\n",
              "// Listen for the removal of the full notebook cells\n",
              "var notebookContainer = gd.closest('#notebook-container');\n",
              "if (notebookContainer) {{\n",
              "    x.observe(notebookContainer, {childList: true});\n",
              "}}\n",
              "\n",
              "// Listen for the clearing of the current output cell\n",
              "var outputEl = gd.closest('.output');\n",
              "if (outputEl) {{\n",
              "    x.observe(outputEl, {childList: true});\n",
              "}}\n",
              "\n",
              "                        })\n",
              "                };\n",
              "                \n",
              "            </script>\n",
              "        </div>\n",
              "</body>\n",
              "</html>"
            ]
          },
          "metadata": {
            "tags": []
          }
        }
      ]
    },
    {
      "cell_type": "markdown",
      "metadata": {
        "id": "nauVcXKseDvF"
      },
      "source": [
        "# Task1: Import the energy data from CSV file to remote InfluxDB -- 10 points"
      ]
    },
    {
      "cell_type": "code",
      "metadata": {
        "tags": [],
        "id": "g5qZr5Wxy8qM"
      },
      "source": [
        "def load_data():\n",
        "    \"\"\"\n",
        "    TODO: Load the energy dataset into InfluxDB database you created manually.\n",
        "    hints: \n",
        "    1. use write_points function\n",
        "    2. no tag needs to be set\n",
        "    3. set \"date\" as time.\n",
        "    \"\"\"\n",
        "    pass"
      ],
      "execution_count": null,
      "outputs": []
    },
    {
      "cell_type": "markdown",
      "metadata": {
        "id": "SV-SjmIcy8qN"
      },
      "source": [
        "# Task2: Queries\n",
        "## Some Hints:\n",
        "1. Since the sampling frequency of the given dataset is 10 mins, in the following queries, you usually need to use the \"GROUP BY(1d)\" statement to get the daily average value of a field before doing other operations.\n",
        "2. Try to use some built-in InfluxQL functions when solving the problems, rather than reinventing the wheel. Please refer https://docs.influxdata.com/influxdb/v1.8/query_language/functions/#spread.\n",
        "3. To pass the provided testing assertion, you may need to round your answer to floating numbers with 2 decimal places.\n",
        "4. You can refer figures in the images folder to verify your results.\n",
        "5. You are allowed to use pandas or numpy to process query results to make it match provided validation result\n",
        "6. Each assert statement below is effectively a test."
      ]
    },
    {
      "cell_type": "markdown",
      "metadata": {
        "id": "j17TakqVy8qN"
      },
      "source": [
        "### Q1: Calculate the mean, median, and standard deviation of each field and return a DataFrame. --  This query has been solved as an example"
      ]
    },
    {
      "cell_type": "code",
      "metadata": {
        "id": "6s7UfqJTy8qN"
      },
      "source": [
        "def q1():\n",
        "    \"\"\"\n",
        "    :return: DataFrame\n",
        "    \"\"\"\n",
        "    query_str = 'SELECT MEAN(*), MEDIAN(*), STDDEV(*) FROM energy FILL(none)'\n",
        "    result = list(client.query(query_str).get_points('energy'))[0]\n",
        "    fileds = list(set(['_'.join(item.split('_')[1:]) for item in list(result.keys())[1:]]))\n",
        "    df_rlt = {}\n",
        "    for f in fileds:\n",
        "        df_rlt.update({f: {'mean': result['mean_%s'%f], 'median': result['median_%s'%f], 'stddev': result['stddev_%s'%f]}})\n",
        "    return pd.DataFrame(df_rlt).T.round(2)"
      ],
      "execution_count": null,
      "outputs": []
    },
    {
      "cell_type": "code",
      "metadata": {
        "id": "DHOq0bYby8qN"
      },
      "source": [
        "aq1 = pd.DataFrame({'mean': {'T4': 20.86, 'T_out': 7.41, 'T2': 20.34, 'RH_5': 50.95, 'Windspeed': 4.04, 'lights': 3.8, 'T9': 19.49, 'Press_mm_hg': 755.52, 'T1': 21.69, 'T8': 22.03, 'RH_7': 35.39, 'RH_out': 79.75, 'RH_4': 39.03, 'RH_8': 42.94, 'RH_2': 40.42, 'T7': 20.27, 'T6': 7.91, 'Visibility': 38.33, 'RH_6': 54.61, 'Tdewpoint': 3.76, 'RH_9': 41.55, 'T3': 22.27, 'rv1': 24.99, 'RH_3': 39.24, 'T5': 19.59, 'Appliances': 97.69, 'RH_1': 40.26, 'rv2': 24.99}, 'median': {'T4': 20.67, 'T_out': 6.92, 'T2': 20.0, 'RH_5': 49.09, 'Windspeed': 3.67, 'lights': 0.0, 'T9': 19.39, 'Press_mm_hg': 756.1, 'T1': 21.6, 'T8': 22.1, 'RH_7': 34.86, 'RH_out': 83.67, 'RH_4': 38.4, 'RH_8': 42.38, 'RH_2': 40.5, 'T7': 20.03, 'T6': 7.3, 'Visibility': 40.0, 'RH_6': 55.29, 'Tdewpoint': 3.43, 'RH_9': 40.9, 'T3': 22.1, 'rv1': 24.9, 'RH_3': 38.53, 'T5': 19.39, 'Appliances': 60.0, 'RH_1': 39.66, 'rv2': 24.9}, 'stddev': {'T4': 2.04, 'T_out': 5.32, 'T2': 2.19, 'RH_5': 9.02, 'Windspeed': 2.45, 'lights': 7.94, 'T9': 2.01, 'Press_mm_hg': 7.4, 'T1': 1.61, 'T8': 1.96, 'RH_7': 5.11, 'RH_out': 14.9, 'RH_4': 4.34, 'RH_8': 5.22, 'RH_2': 4.07, 'T7': 2.11, 'T6': 6.09, 'Visibility': 11.79, 'RH_6': 31.15, 'Tdewpoint': 4.19, 'RH_9': 4.15, 'T3': 2.01, 'rv1': 14.5, 'RH_3': 3.25, 'T5': 1.84, 'Appliances': 102.52, 'RH_1': 3.98, 'rv2': 14.5}})\n",
        "\n",
        "assert q1().eq(aq1).all(axis=1).all()"
      ],
      "execution_count": null,
      "outputs": []
    },
    {
      "cell_type": "markdown",
      "metadata": {
        "id": "2SEiG-ciy8qO"
      },
      "source": [
        "### Q2: Calculate(10 points) and plot(5 points) the average daily temperature of the teenager room 2 in February. -- 15 points"
      ]
    },
    {
      "cell_type": "code",
      "metadata": {
        "id": "dFB2ZP0py8qO"
      },
      "source": [
        "def q2():\n",
        "    \"\"\"\n",
        "    :return: List\n",
        "    \"\"\"\n",
        "    pass"
      ],
      "execution_count": null,
      "outputs": []
    },
    {
      "cell_type": "code",
      "metadata": {
        "id": "2cpET3Wxy8qO"
      },
      "source": [
        "aq2 = [20.65, 20.59, 21.29, 21.29, 20.65, 20.95, 21.73, 21.97, 22.29, 22.45, 22.63, 22.82, 22.12, 21.61, 21.47, 21.52, 21.35, 20.45, 19.97, 20.4, 21.44, 21.28, 20.88, 21.01, 21.21, 20.34, 21.15, 21.51, 21.51]\n",
        "\n",
        "assert q2() == aq2"
      ],
      "execution_count": null,
      "outputs": []
    },
    {
      "cell_type": "markdown",
      "metadata": {
        "id": "_Wu4kwfxy8qO"
      },
      "source": [
        "### Q3: Return(10 points) and plot(5 points) 7-day rolling average values of daily mean external humidity. -- 10 points"
      ]
    },
    {
      "cell_type": "code",
      "metadata": {
        "id": "__Sz9qcOy8qO"
      },
      "source": [
        "# Return(10 points) and plot(5 points) 7-day rolling average values of daily mean external humidity. -- 15 points\n",
        "def q3():\n",
        "    \"\"\"\n",
        "    :return: List\n",
        "    \"\"\"\n",
        "    pass"
      ],
      "execution_count": null,
      "outputs": []
    },
    {
      "cell_type": "code",
      "metadata": {
        "id": "FQp5odu1y8qO"
      },
      "source": [
        "aq3 = [86.93, 85.92, 85.38, 86.09, 85.24, 84.9, 85.96, 87.51, 87.19, 87.46, 87.07, 87.79, 87.28, 85.89, 85.65, 86.5, 87.34, 86.88, 87.73, 89.32, 87.94, 85.21, 83.88, 83.56, 84.87, 85.29, 83.95, 86.07, 88.88, 89.28, 88.0, 86.83, 85.37, 85.54, 85.36, 84.81, 86.48, 87.74, 87.75, 87.48, 86.77, 83.39, 79.82, 77.04, 77.7, 77.26, 77.66, 78.48, 81.3, 85.4, 88.29, 86.78, 85.08, 83.45, 82.21, 81.05, 78.71, 76.44, 75.74, 76.1, 75.76, 77.5, 77.59, 77.95, 78.58, 78.57, 80.84, 82.15, 81.76, 81.31, 81.04, 80.18, 79.67, 77.94, 79.15, 78.11, 78.54, 77.98, 78.65, 79.34, 80.32, 78.25, 78.65, 77.85, 78.4, 76.46, 75.73, 76.61, 77.23, 76.8, 77.86, 78.61, 79.62, 79.55, 76.31, 73.59, 71.73, 70.2, 70.19, 72.86, 74.02, 76.31, 78.73, 80.89, 82.25, 80.29, 76.83, 74.83, 72.12, 68.64, 65.51, 61.27, 59.37, 58.04, 60.55, 62.85, 66.55, 68.52, 70.42, 72.81, 75.22, 73.9, 73.71, 73.23, 74.46, 75.99, 78.54, 79.9, 79.96, 79.67, 79.57, 78.48]\n",
        "\n",
        "assert q3() == aq3"
      ],
      "execution_count": null,
      "outputs": []
    },
    {
      "cell_type": "markdown",
      "metadata": {
        "id": "miiazgJwy8qP"
      },
      "source": [
        "### Q4: Obtain the number of days when the absolute difference in energy consumption between adjacent dates is greater than 100Wh. -- 10 points"
      ]
    },
    {
      "cell_type": "code",
      "metadata": {
        "id": "BFdPpstQy8qP"
      },
      "source": [
        "def q4():\n",
        "    \"\"\"\n",
        "    :return: int\n",
        "    \"\"\"\n",
        "    pass"
      ],
      "execution_count": null,
      "outputs": []
    },
    {
      "cell_type": "code",
      "metadata": {
        "id": "WAmwo843y8qP"
      },
      "source": [
        "assert q4() == 3"
      ],
      "execution_count": null,
      "outputs": []
    },
    {
      "cell_type": "markdown",
      "metadata": {
        "id": "S7GAiNV7y8qP"
      },
      "source": [
        "### Q5: Calculate the difference between the maximum and minimum daily mean energy consumption in March. -- 10 points"
      ]
    },
    {
      "cell_type": "code",
      "metadata": {
        "id": "V-JO0m9qy8qQ"
      },
      "source": [
        "def q5():\n",
        "    \"\"\"\n",
        "    :return: float\n",
        "    \"\"\"\n",
        "    pass"
      ],
      "execution_count": null,
      "outputs": []
    },
    {
      "cell_type": "code",
      "metadata": {
        "id": "bwHOB7KGy8qQ"
      },
      "source": [
        "assert q5() == 117.78"
      ],
      "execution_count": null,
      "outputs": []
    },
    {
      "cell_type": "markdown",
      "metadata": {
        "id": "W-0_hnoFy8qQ"
      },
      "source": [
        "### Q6: It is known that the daily average humidity outside the building (north side , column name: RH_6) has varying degrees of negative correlation with the daily mean temperature of rooms. Please determine which room’s temperature is most affected by this humidity (ie the smallest negcorrelation coefficient). Return the correlation coefficient and plot daily average curves for RH_6 and the field you identified. -- 15 points\n",
        "\n",
        "Hint: You may use the corr function in pandas to calculate correlation coefficients between DataFrame columns. see https://www.w3resource.com/pandas/dataframe/dataframe-corr.php "
      ]
    },
    {
      "cell_type": "code",
      "metadata": {
        "id": "6FcqU83Py8qQ"
      },
      "source": [
        "def q6():\n",
        "    \"\"\"\n",
        "    :return: float\n",
        "    \"\"\"\n",
        "    pass"
      ],
      "execution_count": null,
      "outputs": []
    },
    {
      "cell_type": "code",
      "metadata": {
        "id": "HQlpe8dry8qQ"
      },
      "source": [
        "assert q6() == -0.82"
      ],
      "execution_count": null,
      "outputs": []
    }
  ]
}